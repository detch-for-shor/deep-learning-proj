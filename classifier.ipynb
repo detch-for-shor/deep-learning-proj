{
 "cells": [
  {
   "cell_type": "markdown",
   "metadata": {},
   "source": [
    "## Imports and Preliminary"
   ]
  },
  {
   "cell_type": "code",
   "execution_count": 2,
   "metadata": {},
   "outputs": [],
   "source": [
    "import torch\n",
    "import torch.nn.functional as F\n",
    "from torch import Tensor\n",
    "from overrides import overrides, final"
   ]
  },
  {
   "cell_type": "markdown",
   "metadata": {},
   "source": [
    "## Classifiers"
   ]
  },
  {
   "cell_type": "markdown",
   "metadata": {},
   "source": [
    "Two classifiers have been implemented to solve the classification task on the <i>source</i> ($ C^{(s)} $) and <i>target</i> ($ C^{(t)} $) domain. The former <code>task classifier</code>, $ C^{(s)} $, is trained using the following cross-entropy loss over the <i>labeled</i> source samples: <br /><br />\n",
    "$$ min_{C^{(s)}}\\mathcal{E}_{task}^{(s)}(G, C^{(s)})=-\\frac{1}{n_{s}}\\sum_{i=1}^{n_{s}}log\\bigg(p_{y_{i}^{(s)}}^{(s)}({\\bf x}_{i}^{(s)})\\bigg) $$\n",
    "In the formula above, $G$ represents the <code>feature extractor</code>, ${\\bf x}_{i}^{(s)}$ the output vector of $ C^{(s)} $, and $p_{y_{i}^{(s)}}^{(s)}({\\bf x}_{i}^{(s)}) \\in [0,1]^{K}$ the distribution of probability after the <code>  [softmax](https://pytorch.org/docs/stable/generated/torch.nn.functional.softmax.html)</code>  operation. \n",
    "\n",
    "Since target samples are unlabeled, there exist no direct\n",
    "supervision signals to learn a task classifier $ C^{(t)} $. Therefore, [Zhang](https://arxiv.org/abs/1904.04663) <i>et al.</i> leverage the labeled source samples by using the following cross-entropy loss: \n",
    "$$ min_{C^{(t)}}\\mathcal{E}_{task}^{(t)}(G, C^{(t)})=-\\frac{1}{n_{s}}\\sum_{i=1}^{n_{s}}log(p_{y_{i}^{(s)}}^{(t)}({\\bf x}_{i}^{(s)})) $$\n",
    "\n",
    "It is worth noticing that $C^{(t)}$ will be distinguishable from $C^{(s)}$ through the domain discrimination training of the classifier $C^{(st)}$. Moreover, [Zhang](https://arxiv.org/abs/1904.04663) <i>et al.</i> stresses the use of labeled source samples to enhance $C^{(t)}$'s performance in discriminating among task categories. "
   ]
  },
  {
   "cell_type": "code",
   "execution_count": null,
   "metadata": {},
   "outputs": [],
   "source": [
    "class CrossEntropyClassifier(torch.nn.Module):\n",
    "    _THRESHOLD = 1e-6\n",
    "    \n",
    "    def __init__(self, n_classes: int):\n",
    "        super(CrossEntropyClassifier, self).__init__()\n",
    "        self.n_classes = n_classes\n",
    "      \n",
    "    @final\n",
    "    def add_threshold(self, prob: Tensor, batch_size: int) -> Tensor:\n",
    "        \"\"\"\n",
    "        Check whether the probability distribution after the softmax \n",
    "        corresponds to 0. If this holds, a standard threshold of 1e-6\n",
    "        is added in order to avoid log(0) case. \n",
    "\n",
    "        Args:\n",
    "            prob (Tensor): output tensor of the softmax operation\n",
    "            batch_size (int): batch size of the input \n",
    "\n",
    "        Returns:\n",
    "            Tensor: updated tensor (in case the condition above holds)\n",
    "        \"\"\"\n",
    "        zeros = (prob.sum(dim=1) == 0) \n",
    "        prob_sum = prob.sum(dim=1)\n",
    "        if any(zeros):\n",
    "            thre_tensor = torch.zeros(batch_size)\n",
    "            thre_tensor[zeros] = self._THRESHOLD\n",
    "            prob_sum += thre_tensor\n",
    "        return prob_sum\n",
    "      \n",
    "    @final\n",
    "    def preprocess(self, input: Tensor, split=False, take_first=True) -> Tensor:\n",
    "        \"\"\"\n",
    "        Transforms the output vector of any classifier applying the softmax operation\n",
    "        along the first dimension. Further transformations are performed depending on\n",
    "        'split' and 'take_first' values. \n",
    "        \n",
    "        Args:\n",
    "            input (Tensor): output vector of any classifier \n",
    "            split (bool, optional): whether to consider 2K neurons (constructed classifier C^{st}) or not. Defaults to False.\n",
    "            take_first (bool, optional): whether to take the first K neurons (source classifier) \n",
    "                                        or the last K neurons (target classifier). Defaults to True.\n",
    "        Returns:\n",
    "            Tensor: final probabilities usable as input for the cross-entropy loss function\n",
    "        \"\"\"\n",
    "        batch_size = input.size(0)\n",
    "        prob = F.softmax(input, dim=1)\n",
    "        fw_prob = prob if not split else (prob[:,:self.n_classes] if take_first else prob[:,self.n_classes:])\n",
    "        return self.add_threshold(fw_prob, batch_size)\n",
    "      \n",
    "    @final\n",
    "    def cross_entropy_loss(self, prob_sum: Tensor):\n",
    "        return -(prob_sum.log().mean())\n",
    "\n",
    "class SourceClassifier(CrossEntropyClassifier):\n",
    "    \"\"\"\n",
    "    Task classifier on the source domain. \n",
    "    It considers the first k neurons (i.e., n_classes)\n",
    "    \"\"\"\n",
    "    def __init__(self, n_classes: int):\n",
    "        super(SourceClassifier, self).__init__(n_classes)\n",
    "        \n",
    "    @overrides\n",
    "    def forward(self, input: Tensor):\n",
    "        prob_sum = self.preprocess(input, split=True, take_first=True)\n",
    "        return self.cross_entropy_loss(prob_sum)\n",
    "    \n",
    "class TargetClassifier(CrossEntropyClassifier):\n",
    "    \"\"\"\n",
    "    Task classifier on the target domain. \n",
    "    It considers the last k neurons (i.e., n_classes)\n",
    "    \"\"\"\n",
    "    def __init__(self, n_classes: int):\n",
    "        super(TargetClassifier, self).__init__(n_classes)\n",
    "        \n",
    "    @overrides\n",
    "    def forward(self, input: Tensor):\n",
    "        prob_sum = self.preprocess(input, split=True, take_first=False)\n",
    "        return self.cross_entropy_loss(prob_sum)"
   ]
  }
 ],
 "metadata": {
  "interpreter": {
   "hash": "16cbb1df62e8e69441bdf7dce00d4866841818461557dbda546dabf5a55996e0"
  },
  "kernelspec": {
   "display_name": "Python 3.10.5 64-bit (windows store)",
   "language": "python",
   "name": "python3"
  },
  "language_info": {
   "codemirror_mode": {
    "name": "ipython",
    "version": 3
   },
   "file_extension": ".py",
   "mimetype": "text/x-python",
   "name": "python",
   "nbconvert_exporter": "python",
   "pygments_lexer": "ipython3",
   "version": "3.10.5"
  },
  "orig_nbformat": 4
 },
 "nbformat": 4,
 "nbformat_minor": 2
}
