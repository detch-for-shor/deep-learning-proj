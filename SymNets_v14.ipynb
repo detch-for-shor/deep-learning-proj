{
  "cells": [
    {
      "cell_type": "markdown",
      "metadata": {
        "id": "gZK38mjSsvE6"
      },
      "source": [
        "<center>\n",
        "\n",
        "# SymNet for Adversarial Domain Adaptation\n",
        "## Deep Learning Assignment\n",
        "### A.Y. 2021/22 - University of Trento \n",
        "#### Hrovatin Lucia e Miotto Luca\n",
        "\n",
        "</center>"
      ]
    },
    {
      "cell_type": "markdown",
      "metadata": {
        "id": "GBGRLj3wsvE9"
      },
      "source": [
        "# Abstract"
      ]
    },
    {
      "cell_type": "markdown",
      "metadata": {
        "id": "RgoLbA5ksvE-"
      },
      "source": [
        "\n",
        "In this notebook, we tackle the Unsupervised Domain Adaptation (UDA) task on the reduced version of Adaptiope dataset ([Ringwald & Stiefelhagen](https://paperswithcode.com/dataset/adaptiope), 2021). This version considers the <code>real world</code> (<i>RW</i>) and <code>product</code> (<i>P</i>) domains and narrow down the classes to $20$.\n",
        "\n",
        "Our solution is inspired by the <i>Domain-Symmetric Networks</i> (<i>SymNets</i>), proposed by [Zhang](https://arxiv.org/abs/1904.04663) <i>et al.</i> (2019), and suggests additional architectural refinements to overcome model overfitting and overconfidence.\n",
        "\n",
        "The deployed version of the architecture outperforms both the external baseline (i.e., from the assignment description) and the internal one, namely the source-only model. However, it is worth noting how the <i>gain</i>'s magnitude varies depending on <code>source</code> and <code>target</code> domain definition, meaning the <i>direction</i> of the adaptation.  \n"
      ]
    },
    {
      "cell_type": "markdown",
      "metadata": {
        "id": "kjIgn4KUsvE-"
      },
      "source": [
        "# Environment Preparation"
      ]
    },
    {
      "cell_type": "markdown",
      "metadata": {
        "id": "dOxPcEXesvE-"
      },
      "source": [
        "## Python Version"
      ]
    },
    {
      "cell_type": "code",
      "execution_count": 2,
      "metadata": {
        "id": "i6s1U3SG0cGq"
      },
      "outputs": [],
      "source": [
        "%%capture \n",
        "\n",
        "!sudo apt-get update -y\n",
        "!sudo apt-get install python3.10\n",
        "!sudo update-alternatives --install /usr/bin/python3 python3 /usr/bin/python3.7 1\n",
        "!sudo update-alternatives --install /usr/bin/python3 python3 /usr/bin/python3.10 2\n",
        "!python --version"
      ]
    },
    {
      "cell_type": "markdown",
      "metadata": {
        "id": "veDaOcVb0G9h"
      },
      "source": [
        "## Import  Libraries"
      ]
    },
    {
      "cell_type": "code",
      "execution_count": 3,
      "metadata": {
        "id": "6Iz5l41k0G9j"
      },
      "outputs": [],
      "source": [
        "import os \n",
        "import json\n",
        "import math\n",
        "import torch\n",
        "import torchvision\n",
        "import shutil\n",
        "import imagesize\n",
        "import warnings\n",
        "warnings.filterwarnings(\"ignore\")\n",
        "\n",
        "import numpy as np\n",
        "import torch.nn as nn\n",
        "import torch.cuda as cuda\n",
        "import torchvision.transforms as T\n",
        "import torch.nn.functional as F\n",
        "import pandas as pd\n",
        "import seaborn as sns\n",
        "import matplotlib.pyplot as plt\n",
        "\n",
        "from abc import abstractmethod\n",
        "from tqdm import tqdm\n",
        "from statistics import mean, stdev\n",
        "from pathlib import Path\n",
        "from sklearn.model_selection import train_test_split\n",
        "from sklearn.metrics import accuracy_score \n",
        "from torch import Tensor\n",
        "from torchvision import models\n",
        "from torchvision.datasets import ImageFolder\n",
        "from torch.utils.data.dataloader import DataLoader\n",
        "from torch.utils.data import Subset\n",
        "from torch.nn import CrossEntropyLoss\n",
        "from torch.optim import RMSprop, Adadelta, SGD\n",
        "from google.colab import drive \n",
        "\n",
        "## Not supported in Colab, but explicit references among (sub)classes can be activated\n",
        "#from overrides import overrides, final "
      ]
    },
    {
      "cell_type": "markdown",
      "metadata": {
        "id": "Mc70n_wjbGgr"
      },
      "source": [
        "## HyperParameters"
      ]
    },
    {
      "cell_type": "code",
      "execution_count": 4,
      "metadata": {
        "id": "2KJ4bA8ybGgt"
      },
      "outputs": [],
      "source": [
        "# Device Settings\n",
        "seed = 42 # allow reproducibility of the results\n",
        "\n",
        "# EDA\n",
        "thre = 2 # threshold to check whether images are squared or almost squared\n",
        "\n",
        "# Data Transformation\n",
        "path = \"./adaptiope_small/\"\n",
        "source = \"real_life/\"\n",
        "target = \"product_images/\" \n",
        "resize_dim = 256 \n",
        "crop_dim = 224 # size chosen due to ResNet \n",
        "grayscale = False \n",
        "crop_center = True\n",
        "\n",
        "# Data Loader\n",
        "batch_size = 30 # 15 might also be a reasonable choice given the small number of classes \n",
        "test_split = 0.2 # given by the assignment description\n",
        "\n",
        "# Feature Extractor\n",
        "n_classes = 20 # given by the assignment description\n",
        "model = 'resnet50' # resnet18 has been tested as well \n",
        "optim = 'rmsprop' \n",
        "n_params_trained = 10 # result after fine-tuning \n",
        "weight_decay = 1e-4 # result after fine-tuning \n",
        "lr = 1e-2 # result after fine-tuning \n",
        "dropout = 0.5 # result after fine-tuning \n",
        "label_smoothing = 0.2 # result after fine-tuning \n",
        "source_only = False  \n",
        "\n",
        "# Model Trainer\n",
        "n_epochs = 250 # parameter set extremely high, but never reached\n",
        "patience = 10 "
      ]
    },
    {
      "cell_type": "markdown",
      "metadata": {
        "id": "eG_KkWoF1iLA"
      },
      "source": [
        "## Device Settings"
      ]
    },
    {
      "cell_type": "code",
      "execution_count": 5,
      "metadata": {
        "colab": {
          "base_uri": "https://localhost:8080/"
        },
        "id": "F-Ccv0WA0wUL",
        "outputId": "ca2ed2e5-b93b-4e4d-ac69-6ad4d8c85d21"
      },
      "outputs": [
        {
          "output_type": "stream",
          "name": "stdout",
          "text": [
            "You're running on GPU\n"
          ]
        }
      ],
      "source": [
        "np.random.seed(seed)\n",
        "torch.manual_seed(seed)\n",
        "if cuda.is_available():\n",
        "    print('You\\'re running on GPU')\n",
        "    cuda.manual_seed(seed)\n",
        "    gpu = True\n",
        "else:\n",
        "    print('You\\'re running on CPU')\n",
        "    gpu = False"
      ]
    },
    {
      "cell_type": "code",
      "execution_count": 6,
      "metadata": {
        "colab": {
          "base_uri": "https://localhost:8080/"
        },
        "id": "ZYpPF-EA01MY",
        "outputId": "39d3333c-6fe9-4803-8ef7-8795d1495201"
      },
      "outputs": [
        {
          "output_type": "stream",
          "name": "stdout",
          "text": [
            "Fri Aug 19 18:59:34 2022       \n",
            "+-----------------------------------------------------------------------------+\n",
            "| NVIDIA-SMI 460.32.03    Driver Version: 460.32.03    CUDA Version: 11.2     |\n",
            "|-------------------------------+----------------------+----------------------+\n",
            "| GPU  Name        Persistence-M| Bus-Id        Disp.A | Volatile Uncorr. ECC |\n",
            "| Fan  Temp  Perf  Pwr:Usage/Cap|         Memory-Usage | GPU-Util  Compute M. |\n",
            "|                               |                      |               MIG M. |\n",
            "|===============================+======================+======================|\n",
            "|   0  Tesla P100-PCIE...  Off  | 00000000:00:04.0 Off |                    0 |\n",
            "| N/A   48C    P0    32W / 250W |      2MiB / 16280MiB |      0%      Default |\n",
            "|                               |                      |                  N/A |\n",
            "+-------------------------------+----------------------+----------------------+\n",
            "                                                                               \n",
            "+-----------------------------------------------------------------------------+\n",
            "| Processes:                                                                  |\n",
            "|  GPU   GI   CI        PID   Type   Process name                  GPU Memory |\n",
            "|        ID   ID                                                   Usage      |\n",
            "|=============================================================================|\n",
            "|  No running processes found                                                 |\n",
            "+-----------------------------------------------------------------------------+\n"
          ]
        }
      ],
      "source": [
        "gpu_info = !nvidia-smi\n",
        "gpu_info = '\\n'.join(gpu_info)\n",
        "if gpu_info.find('failed') >= 0:\n",
        "  print('Not connected to a GPU')\n",
        "else:\n",
        "  print(gpu_info)"
      ]
    },
    {
      "cell_type": "code",
      "execution_count": 7,
      "metadata": {
        "colab": {
          "base_uri": "https://localhost:8080/"
        },
        "id": "kIlVaihW04ub",
        "outputId": "2f086dd6-80e3-46c3-bc33-7a63f8aea409"
      },
      "outputs": [
        {
          "output_type": "stream",
          "name": "stdout",
          "text": [
            "27.33 GB of RAM\n",
            "\n"
          ]
        }
      ],
      "source": [
        "from psutil import virtual_memory\n",
        "ram_gb = virtual_memory().total / 1e9\n",
        "ram_gb = round(ram_gb, 2)\n",
        "print(f'{ram_gb} GB of RAM\\n')"
      ]
    },
    {
      "cell_type": "markdown",
      "metadata": {
        "id": "En10ic2_0G9s"
      },
      "source": [
        "## Model Saver "
      ]
    },
    {
      "cell_type": "code",
      "execution_count": 8,
      "metadata": {
        "id": "yci2ngnwbGhp"
      },
      "outputs": [],
      "source": [
        "class ModelSaver:\n",
        "    \n",
        "    def __init__(self, base_dir: str, source_only=False):\n",
        "        \"\"\"\n",
        "        The class saves the best running model as pickle file, along with its \n",
        "        results and parameters as json. \n",
        "\n",
        "        Parameters\n",
        "        ----------\n",
        "        base_dir: str\n",
        "            directory to save the files \n",
        "        source_only: bool\n",
        "            if True, it saves the results of the source only model\n",
        "        \n",
        "        Methods\n",
        "        -------\n",
        "        check_base_dir:\n",
        "            Check whether the directory exists or not.  \n",
        "\n",
        "        model_save:\n",
        "            Save the best model and optimizer in a pickle file.\n",
        "        \n",
        "        save_hyperparam: \n",
        "            Save the list of hyperparameters employed \n",
        "            by the model in a json file.  \n",
        "\n",
        "        save_results:         \n",
        "            Save the model results (e.g., accuracy on train and validation)\n",
        "            in a json file.  \n",
        "        \"\"\"\n",
        "        self.base_dir = base_dir\n",
        "        self.filename = source.split(\"_\")[0] + \"2\" + target.split(\"_\")[0]\n",
        "        self.fullpath = f'{base_dir}/{self.filename}'\n",
        "        self.source_only = source_only\n",
        "    \n",
        "    def check_base_dir(self):\n",
        "        try:\n",
        "            if not os.path.exists(self.base_dir):\n",
        "                os.makedirs(self.base_dir)\n",
        "            return True\n",
        "        except OSError:\n",
        "            return False\n",
        "\n",
        "    def model_save(self, model, optimizer):\n",
        "        # Save only if the base directory exists\n",
        "        if self.check_base_dir(): \n",
        "            with open(f'{self.fullpath}.pickle', 'wb') as f:\n",
        "                torch.save([model, optimizer], f)\n",
        "        else:\n",
        "            raise Exception('Model saving failed')\n",
        "    \n",
        "    def save_hyperparam(self):\n",
        "        params_dict = {\n",
        "            'seed': seed,\n",
        "            'source': source,\n",
        "            'target': target,\n",
        "            'grayscale': grayscale,\n",
        "            'crop_center': crop_center,\n",
        "            'batch_size': batch_size,\n",
        "            'test_split': test_split,\n",
        "            'n_classes': n_classes,\n",
        "            'model': model,\n",
        "            'optimizer': optim,\n",
        "            'n_params_trained': n_params_trained,\n",
        "            'weight_decay': weight_decay,\n",
        "            'learning_rate': lr,\n",
        "            'dropout': dropout,\n",
        "            'label_smoothing': label_smoothing,\n",
        "            'n_epochs': n_epochs,\n",
        "            'patience': patience\n",
        "        }\n",
        "        if self.check_base_dir():\n",
        "            with open(f'{self.fullpath}_params.json', 'w') as f:\n",
        "                json.dump(params_dict, f, indent=4)\n",
        "        else:\n",
        "            raise Exception('Hyperparams saving failed')\n",
        "            \n",
        "    def save_results(self, results: dict):\n",
        "        if self.check_base_dir():\n",
        "            if self.source_only:\n",
        "                self.fullpath = self.fullpath + \"_so\"\n",
        "            with open(f'{self.fullpath}_results.json', 'w') as f:\n",
        "                json.dump(results, f, indent=4)\n",
        "        else:\n",
        "            raise Exception('Results saving failed')"
      ]
    },
    {
      "cell_type": "markdown",
      "metadata": {
        "id": "qB-fqOSgsvFD"
      },
      "source": [
        "# Data Collection"
      ]
    },
    {
      "cell_type": "code",
      "execution_count": 9,
      "metadata": {
        "id": "_byHbGvzCpOS"
      },
      "outputs": [],
      "source": [
        "%%capture\n",
        "\n",
        "drive.mount('/content/drive', force_remount=True)\n",
        "\n",
        "if not os.path.exists('/content/adaptiope_small'):\n",
        "  !mkdir \"/content/dataset\"\n",
        "  \n",
        "  try:\n",
        "    !cp \"/content/drive/My Drive/DLL_project/Adaptiope.zip\" \"/content/dataset/\"\n",
        "  except: \n",
        "    raise FileExistsError(\"Could not find this directory, add a shortcut to your drive\")\n",
        "  \n",
        "  !ls \"/content/dataset\"\n",
        "  !unzip \"/content/dataset/Adaptiope.zip\"\n",
        "  !rm -rf \"/content/adaptiope_small\"\n",
        "  !mkdir \"/content/adaptiope_small\""
      ]
    },
    {
      "cell_type": "code",
      "execution_count": 10,
      "metadata": {
        "colab": {
          "base_uri": "https://localhost:8080/"
        },
        "id": "wHM96q2tDMXd",
        "outputId": "c493ba2e-546a-414f-ba99-b17f112e326e"
      },
      "outputs": [
        {
          "output_type": "stream",
          "name": "stderr",
          "text": [
            "100%|██████████| 20/20 [00:02<00:00,  8.65it/s]\n",
            "100%|██████████| 20/20 [00:00<00:00, 21.67it/s]\n"
          ]
        }
      ],
      "source": [
        "# Filter Adaptiope dataset to extract the classes of interest \n",
        "\n",
        "classes = [\"backpack\", \"bookcase\", \"car jack\", \"comb\", \"crown\", \"file cabinet\", \"flat iron\", \"game controller\", \"glasses\",\n",
        "           \"helicopter\", \"ice skates\", \"letter tray\", \"monitor\", \"mug\", \"network switch\", \"over-ear headphones\", \"pen\",\n",
        "           \"purse\", \"stand mixer\", \"stroller\"]\n",
        "\n",
        "for d, td in zip([\"Adaptiope/product_images\", \"Adaptiope/real_life\"], [\"adaptiope_small/product_images\", \"adaptiope_small/real_life\"]):\n",
        "  if not os.path.exists(td):\n",
        "    os.makedirs(td)\n",
        "    for c in tqdm(classes):\n",
        "      c_path = os.path.join(d, c)\n",
        "      c_target = os.path.join(td, c)\n",
        "      shutil.copytree(c_path, c_target)"
      ]
    },
    {
      "cell_type": "markdown",
      "metadata": {
        "id": "ehyhsDQ2svFD"
      },
      "source": [
        "# Data Preparation"
      ]
    },
    {
      "cell_type": "markdown",
      "metadata": {
        "id": "8HWKS2D8svFD"
      },
      "source": [
        "## Exploratory Data Analysis (EDA)"
      ]
    },
    {
      "cell_type": "markdown",
      "metadata": {
        "id": "M5RHK3H-svFD"
      },
      "source": [
        "An Exploratory Data Analysis has been performed to learn about the data we are working with. Specifically, the metadata of each image has been extracted and saved into a dictionary(**metadata_img**). "
      ]
    },
    {
      "cell_type": "code",
      "execution_count": 11,
      "metadata": {
        "id": "4UolhksQsvFE"
      },
      "outputs": [],
      "source": [
        "metadata_img = {}\n",
        "domains = [\"product_images\", \"real_life\"]\n",
        "\n",
        "for domain in domains:\n",
        "  subclass = os.listdir(f\"{path}{domain}\")\n",
        "  for cls_name in classes:\n",
        "    imgs = [img.name for img in Path(f\"{path}{domain}/{cls_name}/\").iterdir() if img.suffix == \".jpg\"]\n",
        "    for img in imgs: \n",
        "      metadata_img[str(img + domain)] = imagesize.get(f\"{path}{domain}/{cls_name}/\"+img)"
      ]
    },
    {
      "cell_type": "code",
      "execution_count": 12,
      "metadata": {
        "colab": {
          "base_uri": "https://localhost:8080/"
        },
        "id": "nsXBWIKVsvFE",
        "outputId": "cb8ac1b7-118a-40ce-fc67-00d1ea199c3a"
      },
      "outputs": [
        {
          "output_type": "stream",
          "name": "stdout",
          "text": [
            "Height: avg = 1122 ± sd = 415.62\n",
            "Width: avg = 1160 ± sd = 415.42\n"
          ]
        }
      ],
      "source": [
        "img_df = pd.DataFrame.from_dict([metadata_img]).T.reset_index().set_axis(['file_name', 'size'], axis='columns', inplace=False)\n",
        "\n",
        "# store width and height in a Pandas data frame\n",
        "img_df[[\"width\", \"height\"]] = pd.DataFrame(img_df[\"size\"].tolist(), index=img_df.index)\n",
        "\n",
        "# define the domain of each image\n",
        "img_df[\"domain\"] = pd.DataFrame(img_df[\"file_name\"].apply(lambda x: x[1:].split('.jpg')[-1]))\n",
        "\n",
        "avg_width = round(img_df[\"width\"].sum() / len(img_df))\n",
        "avg_height = round(img_df[\"height\"].sum() / len(img_df))\n",
        "sd_width = round(stdev(img_df[\"width\"]), 2)\n",
        "sd_height = round(stdev(img_df[\"height\"]), 2)\n",
        "\n",
        "print(f'Height: avg = {avg_height} ± sd = {sd_height}')\n",
        "print(f'Width: avg = {avg_width} ± sd = {sd_width}')"
      ]
    },
    {
      "cell_type": "markdown",
      "metadata": {
        "id": "cRJMdTK8svFE"
      },
      "source": [
        "<center>\n",
        "\n",
        "| Dimension| Average | Standard deviation | Minimum | Maximum |\n",
        "|  :----: | :-----------: |:----------: |  :----: |  :----: | \n",
        "| Height | 1122 | 415.62| 75 | 2560|\n",
        "| Width | 1160 | 415.42| 120| 2870|\n",
        "\n",
        "</center>\n",
        "\n",
        "The high standard deviations and discrepancies between extremes (i.e., <i>min</i> and <i>max</i>) stress the need for further analyses. Thus, several insights can be gained by displaying the underlying distributions of <i>height</i> and <i>width</i>. "
      ]
    },
    {
      "cell_type": "code",
      "execution_count": 13,
      "metadata": {
        "colab": {
          "base_uri": "https://localhost:8080/",
          "height": 493
        },
        "id": "5bn_CHeBsvFE",
        "outputId": "d1a2bc04-5d05-4534-b7fe-c257eaa8c040"
      },
      "outputs": [
        {
          "output_type": "display_data",
          "data": {
            "text/plain": [
              "<Figure size 1080x504 with 2 Axes>"
            ],
            "image/png": "[encoded data removed]"
          },
          "metadata": {
            "needs_background": "light"
          }
        }
      ],
      "source": [
        "fig, (ax1, ax2) = plt.subplots(1,2, figsize=(15, 7))\n",
        "fig.suptitle(\"Distribution of height and width in the reduced Adaptiope\", \n",
        "             fontsize=18)\n",
        "\n",
        "sns.histplot(\n",
        "    data = img_df[\"height\"],\n",
        "    kde = True, \n",
        "    ax = ax1, \n",
        "    stat = \"density\", \n",
        "    color = \"lightgreen\")\n",
        "\n",
        "sns.histplot(\n",
        "    data = img_df[\"width\"],\n",
        "    kde = True,\n",
        "    ax = ax2, \n",
        "    stat = \"density\")\n",
        "\n",
        "ax1.set(xlabel='Height (pixel)', ylabel='Density')\n",
        "ax2.set(xlabel='Width (pixel)', ylabel='Density')\n",
        "\n",
        "plt.show()"
      ]
    },
    {
      "cell_type": "markdown",
      "metadata": {
        "id": "PZ65ZhrKsvFE"
      },
      "source": [
        "Three considerations follow: \n",
        "\n",
        "1. as aforementioned, the extremes cover a broad range. Indeed, the distributions start from minima below 100 (pixel) to maxima around 2500 (pixel).\n",
        "\n",
        "2. basic statistics (e.g., mean) did not detect the presence of the three peaks, which are symmetrically set at 700, 1200 and 1500 pixels\n",
        "\n",
        "3. the previous consideration about the peaks' symmetry might suggest a moderate presence of squared images. \n",
        "\n",
        "The last statement has been checked by computing the percentage of images having an (almost) squared shape. A threshold of $t = 2$ (pixels) has been added to detect images with similar dimensions, namely slightly rectangular shapes. "
      ]
    },
    {
      "cell_type": "code",
      "execution_count": 14,
      "metadata": {
        "colab": {
          "base_uri": "https://localhost:8080/"
        },
        "id": "MjBYPSS5svFE",
        "outputId": "c26ebde7-6331-41da-f75f-bae0045423f6"
      },
      "outputs": [
        {
          "output_type": "stream",
          "name": "stdout",
          "text": [
            "Squared images in the dataset: 33.0 %\n"
          ]
        }
      ],
      "source": [
        "cond = np.logical_and(img_df['height'] - thre < img_df['width'], img_df['width'] < img_df['height'] + thre)\n",
        "sq_df = img_df[cond]\n",
        "print('Squared images in the dataset: ' + str(round(len(sq_df.index)/len(img_df.index), 2)*100) + \" %\")"
      ]
    },
    {
      "cell_type": "markdown",
      "metadata": {
        "id": "GCXYh1O3svFE"
      },
      "source": [
        "Even though the threshold is posed, only $\\frac{1}{3}$ of the images are (almost) squared. This result is relevant in evaluating the data transformation step (see next Section), as the resizing and cropping procedure will determine a consistent lack of information and increase the model generalizability. "
      ]
    },
    {
      "cell_type": "markdown",
      "metadata": {
        "id": "QhWEa-5C0G9l"
      },
      "source": [
        "## Data Transformation"
      ]
    },
    {
      "cell_type": "code",
      "execution_count": 15,
      "metadata": {
        "id": "KZSDTkjY0G9m"
      },
      "outputs": [],
      "source": [
        "def data_transformation(resize_dim=256, crop_dim=224, grayscale=False, crop_center=True):\n",
        "    \"\"\"Transform the data by resizing, cropping, recoloring and flipping it. \n",
        "\n",
        "    Args:\n",
        "        resize_dim (int): Defaults set to 256.\n",
        "        crop_dim (int): Set to 224 as the ResNet requires these dimensions \n",
        "        grayscale (bool): If True, the images are converted to grayscale\n",
        "        crop_center (bool): If True images are cropped in the center, otherwise the crop is random\n",
        "    \"\"\"\n",
        "    transform_lst = []\n",
        "    \n",
        "    # Resizes the images \n",
        "    transform_lst.append(T.Resize((resize_dim)))                                                          \n",
        "    \n",
        "    if grayscale:\n",
        "        # Converts images to grayscale and returned images are 3 channels (with r == g == b)\n",
        "        transform_lst.append(T.Grayscale(num_output_channels=3))                        \n",
        "    \n",
        "    if crop_center:\n",
        "        # Crops the image in the center\n",
        "        transform_lst.append(T.CenterCrop((crop_dim)))\n",
        "    else:\n",
        "        # Performs a random crop \n",
        "        transform_lst.append(T.RandomCrop((crop_dim)))\n",
        "    \n",
        "    # Flips the image randomly with the given probability\n",
        "    transform_lst.append(T.RandomHorizontalFlip(p=0.5))\n",
        "    \n",
        "    # Convert the images to tensors                                  \n",
        "    transform_lst.append(T.ToTensor())                                             \n",
        "    \n",
        "    # Composes several transforms together and returns them\n",
        "    return T.Compose(transform_lst)  "
      ]
    },
    {
      "cell_type": "code",
      "execution_count": 16,
      "metadata": {
        "id": "BtPLbGgh0G9m"
      },
      "outputs": [],
      "source": [
        "def image_normalization(dataset: ImageFolder) -> ImageFolder:\n",
        "    \"\"\" \n",
        "    Normalize images by changing the range of pixel intensity values.\n",
        "    The normalization employs mean (mean[1],...,mean[n]) and standard deviation (std[1],..,std[n])\n",
        "    for n, number of channels (i.e., 3). Each channel of the input tensor will be \n",
        "    normalized as follows: output[channel] = (input[channel] - mean[channel]) / std[channel]\n",
        "    \"\"\"\n",
        "    ds_length = len(dataset)\n",
        "    for i in tqdm(range(ds_length)):\n",
        "        r_mean, g_mean, b_mean = torch.mean(dataset[i][0], dim = [1,2])\n",
        "        r_std, g_std, b_std = torch.std(dataset[i][0], dim = [1,2])\n",
        "        T.functional.normalize(\n",
        "            tensor = dataset[i][0], \n",
        "            mean = [r_mean, g_mean, b_mean],\n",
        "            std = [r_std, g_std, b_std],\n",
        "            inplace=True)\n",
        "    return dataset"
      ]
    },
    {
      "cell_type": "code",
      "execution_count": 17,
      "metadata": {
        "colab": {
          "base_uri": "https://localhost:8080/"
        },
        "id": "M6dBd8Zh0G9n",
        "outputId": "712b1b80-8f4e-432f-f4ad-b47d4e6f92e3"
      },
      "outputs": [
        {
          "output_type": "stream",
          "name": "stderr",
          "text": [
            "100%|██████████| 2000/2000 [03:39<00:00,  9.11it/s]\n",
            "100%|██████████| 2000/2000 [02:05<00:00, 15.94it/s]\n"
          ]
        }
      ],
      "source": [
        "# Source Domain\n",
        "source_ds = ImageFolder(\n",
        "    root = path + source,\n",
        "    transform = data_transformation(\n",
        "        resize_dim, \n",
        "        crop_dim, \n",
        "        grayscale, \n",
        "        crop_center))\n",
        "\n",
        "# Target Domain\n",
        "target_ds = ImageFolder(\n",
        "    root = path + target, \n",
        "    transform = data_transformation(\n",
        "        resize_dim, \n",
        "        crop_dim, \n",
        "        grayscale, \n",
        "        crop_center))\n",
        " \n",
        "# Apply normalization\n",
        "if not grayscale:\n",
        "    image_normalization(source_ds)\n",
        "    image_normalization(target_ds)"
      ]
    },
    {
      "cell_type": "markdown",
      "metadata": {
        "id": "ya6nhiHiDhkM"
      },
      "source": [
        "# Data Splitting"
      ]
    },
    {
      "cell_type": "code",
      "execution_count": 18,
      "metadata": {
        "id": "nrDImKxB0G9o"
      },
      "outputs": [],
      "source": [
        "def get_data(dataset: ImageFolder, test_split=0.2, batch_size=30) -> (DataLoader, DataLoader):\n",
        "    \"\"\"\n",
        "    Transformed data are splitted into training (0.8) and validation (0.2) sets and \n",
        "    data loaders with a predefined size are returned. \n",
        "\n",
        "    Args:\n",
        "        test_split (float): Fixed train/test split 80/20. \n",
        "        batch_size (int): Batch size of the loaders, the default is set to 30.\n",
        "    \"\"\"\n",
        "    \n",
        "    train_indices, val_indices = train_test_split(\n",
        "        list(range(len(dataset.targets))),\n",
        "        test_size = test_split,\n",
        "        stratify = dataset.targets, \n",
        "        random_state = 42)\n",
        "    \n",
        "    train_dataset = Subset(dataset, train_indices)\n",
        "    val_dataset = Subset(dataset, val_indices)\n",
        "\n",
        "    train_data_loader = DataLoader(train_dataset, batch_size=batch_size, shuffle=True)\n",
        "    val_data_loader = DataLoader(val_dataset, batch_size=batch_size, shuffle=False)\n",
        "    \n",
        "    return train_data_loader, val_data_loader"
      ]
    },
    {
      "cell_type": "code",
      "execution_count": 19,
      "metadata": {
        "id": "uWXxiULT0G9o"
      },
      "outputs": [],
      "source": [
        "# Source domain \n",
        "source_train_loader, source_val_loader = get_data(source_ds, test_split, batch_size)\n",
        "\n",
        "# Target domain\n",
        "target_train_loader, target_val_loader = get_data(target_ds, test_split, batch_size)"
      ]
    },
    {
      "cell_type": "markdown",
      "metadata": {
        "id": "T9uO6jyHEeKs"
      },
      "source": [
        "# UDA Architecture "
      ]
    },
    {
      "cell_type": "markdown",
      "metadata": {
        "id": "f7hvzUo8svFF"
      },
      "source": [
        "As aforementioned, the UDA architecture here presented\n",
        "seeks to address the <i>domain shift</i> problem and strives for accurate predictions on the target domain even in the absence of target labels.\n",
        "\n",
        "Our solution is build around the structure presented by [Zhang](https://arxiv.org/abs/1904.04663) <i>et al.</i> and reported in the figure below. Whereas the symmetric design of source and target task classifiers does not introduce any novelty in the UDA field, the adversarial learning function system results innovative. Thus, SymNet is inspired by the domain discriminator of Generative Adversarial Networks (GAN) training procedure, but it shifts its role onto the training loss function. Hence, it comprises a two-level domain confusion scheme, entailing a domain discrimination loss and a domain confusion loss. Moreover, the category-level confusion loss improves over the domain level by stabilizing the intermediate network features independently from the categories. Both domain discrimination and domain confusion losses are implemented on an additional classifier. "
      ]
    },
    {
      "cell_type": "markdown",
      "metadata": {
        "id": "yHJCx7Or3eef"
      },
      "source": [
        "![SymNet](https://drive.google.com/uc?id=1E_bMJdr4kZR_5XpZiBYBXqQ8-P_UU94S)\n"
      ]
    },
    {
      "cell_type": "markdown",
      "metadata": {
        "id": "lS8yTMu10G9r"
      },
      "source": [
        "## Feature Extractor"
      ]
    },
    {
      "cell_type": "markdown",
      "metadata": {
        "id": "HSf0_h16svFG"
      },
      "source": [
        "The first element of the architecture is the feature extractor ($G$) that computes the images' latent representation. In computer vision <code>ResNet</code> is a quite popular choice and, accordingly to the original implementation, [ResNet50](https://pytorch.org/hub/nvidia_deeplearningexamples_resnet50/). It is worth noting that the code allows a certain degree of flexibility by proposing ResNet18 as a less computationally expensive backbone. In both cases, the linear output layer has been modified to allow for <b>Unsupervised Domain Adaptation</b> and, specifically, it is doubled. The results of the two domain-specific classification tasks (i.e., on the source and target) can be represented as the length of each half corresponding to the number of classes ($n=20$ for this specific application).\n",
        "\n",
        "* <b>Dropout layer </b><br>\n",
        "\n",
        "A <b>dropout layer</b> is applied to the latent representations before the linear output layer. This refinement derives from empirical and architectural reasons. After a few attempts, we noticed that the model was mapping several different input values to a small number of output points, and, in extreme cases, it collapsed into a unique latent representation for images belonging to different categories. This behaviour suggested the <b>mode collapse</b> phenomenon, which is typical of adversarial-based architectures ([Goodfellow](https://arxiv.org/abs/1701.00160), 2016). To mitigate this phenomenon, we introduced a dropout layer that, by simply dropping out the output of some randomly chosen neurons, should promote generalization in the network ([Mordido <i>et al.</i>](https://arxiv.org/pdf/1807.11346.pdf), 2020)\n",
        "\n",
        "* <b>Freezing layers </b><br>\n",
        "\n",
        "Given that the ResNet is already pretrained and has useful weights, we introduced two alternatives to freeze the layers and speed up the training. Whereas the first method directly freezes an <i>a-priori</i> number of layers (i.e., <code> n_params - n_params_trained </code>), the second introduces a <b>layer-wise learning rate decay</b> ()[]. The latter decays the learning rate layer by layer (here, group of parameters) instead of the whole model accordingly to the following sigmoid function:\n",
        "\n",
        "$$ \\displaystyle \\eta(x) = \\eta_{max} \\cdot \\sigma\\bigg(\\frac{k}{n-1} \\cdot x - \\frac{k}{2}\\bigg) = \\frac{\\eta_{max}}{1+\\mathcal{e}^{-(\\frac{k}{n-1} \\cdot x - \\frac{k}{2})}} $$\n",
        "\n",
        "Where $n$ is the number of parameters (here, groups of parameters), $\\eta_{max}$ is the maximum possible learning rate assigned, and $k=10$ is a fixed coefficient chosen to guarantee that the outer layers have $\\approx 100\\%$ the maximum learning rate applied. Therefore, teh function applies a higher learning rate to the outer layers and then decreases it for the inner ones. Moreover, the function shows a central symmetry and, independently from $k$, $x=\\frac{n-1}{2}$ implies exactly $\\eta(x)=\\frac{\\eta_{max}}{2}$. <br>\n",
        "\n",
        "* <b>Optimizer </b><br>\n",
        "\n",
        "Whereas the original implementation employs <b>Stochastic Gradient Descent</b> ([<code>SGD</code>](https://pytorch.org/docs/stable/generated/torch.optim.SGD.html)) to update the parameters, our implementation is based on the unpublished <b>Root Mean Square Propagation</b>, namely [<code>RMSProp</code>](https://pytorch.org/docs/stable/generated/torch.optim.RMSprop.html) ([Hinton](https://www.cs.toronto.edu/~tijmen/csc321/slides/lecture_slides_lec6.pdf), 2018). RMSProp belongs to the realm of adaptive learning rate methods and extends the SGD algorithm and Momentum method, representing the [<code>Adam</code>](https://pytorch.org/docs/stable/generated/torch.optim.Adam.html) algorithm's foundation ([Kingma & Ba](https://arxiv.org/pdf/1412.6980.pdf), 2014). Even though Adam algorithm is the default choice of many neural network implementations and the best among the adaptive optimizers in most of the cases ([Ruder](https://ruder.io/optimizing-gradient-descent/index.html#adam), 2016), RMSProp was developed as a stochastic technique for mini-batch learning ([Kingma & Ba]((https://arxiv.org/pdf/1412.6980.pdf), 2014; [Guide to Adam and Rmsprop](https://medium.com/analytics-vidhya/a-complete-guide-to-adam-and-rmsprop-optimizer-75f4502d83be)) and seemed a reasonable choice considering our batches. Unlike the original paper (<code>batch_size=120</code>), we considered batches of 30 images due to the small number of classes. While the reduced Adaptiope dataset maps to $20$ classes, the original included $123$ ([Ringwald & Stiefelhagen](https://paperswithcode.com/dataset/adaptiope), 2021) and [Office-31](https://paperswithcode.com/dataset/office-31) dataset $31$. "
      ]
    },
    {
      "cell_type": "code",
      "execution_count": 20,
      "metadata": {
        "id": "AfuKcRs50G9r"
      },
      "outputs": [],
      "source": [
        "class FeatureExtractor:\n",
        "    \n",
        "    def __init__(self, n_classes: int, model='resnet50', optimizer='rmsprop', n_params_trained=None, lr=0.01, weight_decay=0.0, dropout=0.0, source_only=False):\n",
        "        '''\n",
        "        This class implements the internal model (a.k.a. feature extractor).\n",
        "        For image classification tasks, ResNet is a popular choice.\n",
        "        This class slightly differs from pretrained model due to a modified\n",
        "        output layer, which allows for unsupervised domain adaptation (UDA).\n",
        "\n",
        "        Parameters\n",
        "        ----------\n",
        "        n_classes: int\n",
        "            number of classes in the dataset\n",
        "        model: str, optional\n",
        "            pretrained model to import as feature extractor [default='resnet50']\n",
        "        optimizer: str, optional\n",
        "            optimizer to apply on the model [default='rmsprop']\n",
        "        n_params_trained: int, optional\n",
        "            number of parameters (i.e., layers to be trained) [default=None]\n",
        "        lr: float, optional\n",
        "            learning rate [default=0.01]\n",
        "        weight_decay: float, optional\n",
        "            weight decay [default=0.0]\n",
        "        dropout: float, optional\n",
        "            dropout to apply to the latent representation \n",
        "            before linear output is applied [default=0.0]\n",
        "        source_only: boolean, optional\n",
        "            source-only training mode requires output \n",
        "            as long as n_classes [default=False]\n",
        "        '''\n",
        "        self.learning_rate = lr\n",
        "        self.weight_decay = weight_decay\n",
        "        self.dropout = dropout\n",
        "        \n",
        "        # Upload pretrained model \n",
        "        if model.lower() == 'resnet18': \n",
        "            self.model = models.resnet18(pretrained=True)\n",
        "        elif model.lower() == 'resnet50': \n",
        "            self.model = models.resnet50(pretrained=True)\n",
        "        else:\n",
        "            raise ValueError('Unknown model')\n",
        "        \n",
        "        # Modify last layer (classification)\n",
        "        n_feat_in = self.model.fc.in_features\n",
        "        n_feat_out = 2*n_classes if not source_only else n_classes\n",
        "        \n",
        "        self.model.fc = nn.Sequential(\n",
        "            nn.Dropout(p=self.dropout, inplace=True),\n",
        "            nn.Linear(n_feat_in, n_feat_out))\n",
        "        \n",
        "        if cuda.is_available():\n",
        "            self.model = self.model.cuda()\n",
        "\n",
        "        count = 0 \n",
        "        n_params = len(list(self.model.parameters()))\n",
        "        first_param_trained = n_params - n_params_trained if n_params_trained else 0\n",
        "        if n_params_trained is not None:\n",
        "            # Freeze first layers\n",
        "            for param in self.model.parameters():\n",
        "                param.requires_grad = (count >= first_param_trained)\n",
        "                count = count + 1 \n",
        "            params_to_train = filter(lambda p: p.requires_grad, self.model.parameters())\n",
        "        else:\n",
        "            # Layer-wise Learning Rate Decay\n",
        "            i = -1 \n",
        "            params_to_train = []\n",
        "            name_prev_group = None\n",
        "            groups = set([name.split('.')[0] for name, _ in self.model.named_parameters()])\n",
        "            for name, param in self.model.named_parameters():\n",
        "                name_cur_group = name.split('.')[0]\n",
        "                if name_cur_group != name_prev_group or name_prev_group is None:\n",
        "                    i = i + 1\n",
        "                    lr_group = self.lr_annealing(i, len(groups)-1, self.learning_rate)\n",
        "                name_prev_group = name_cur_group\n",
        "                params_to_train.append({'params': param, 'lr': lr_group})\n",
        "            \n",
        "        # Initialize optimizer\n",
        "        if optimizer.lower() == 'rmsprop':\n",
        "            self.optim = RMSprop(\n",
        "                params = params_to_train,\n",
        "                lr = self.learning_rate,\n",
        "                weight_decay = self.weight_decay)\n",
        "        else:\n",
        "            raise ValueError('Unknown optimizer')\n",
        "    \n",
        "    def lr_annealing(self, index: int, n_groups: int, lr: float):\n",
        "        lr_steep = 10\n",
        "        sigmoid = lambda x: 1/(1 + np.exp(-x)) \n",
        "        return lr * sigmoid(lr_steep/n_groups * (index - (n_groups/2))) "
      ]
    },
    {
      "cell_type": "markdown",
      "metadata": {
        "id": "PzHiEzWR0G9p"
      },
      "source": [
        "## Losses"
      ]
    },
    {
      "cell_type": "markdown",
      "metadata": {
        "id": "vAwRudiUsvFG"
      },
      "source": [
        "The SymNet architecture presents an overall training function based on compositionality and introducing a novel adversarial learning approach. It embeds two main modules: the first respondible for the updating the classifiers and the second that applies on the feature extractor ([Zhang <i>et al.</i>](https://arxiv.org/abs/1904.04663), see § 3.3). \n",
        "\n",
        "$$ \\displaystyle\\min_{C^s, C^t, C^{st}} \\large \\mathcal{E}_{task}^{(s)}(G, C^{(s)}) +  \\large\\mathcal{E}_{task}^{(t)}(G, C^{(t)}) + \\large\\mathcal{E}_{domain}^{(st)}(G, C^{(st)})$$    \n",
        "$$\\displaystyle\\min_{G} \\large \\mathcal{F}_{category}^{(st)}(G, C^{(st)}) + \\lambda [\\large \\mathcal{F}_{domain}^{(st)}(G, C^{(st)}) + \\large \\mathcal{M}^{(st)}(G, C^{(st)})]$$\n",
        "\n",
        "The multiple elements (i.e., losses) have been organized in a tree-wise structure to avoid redundancy in the code and provide a user-friendly object-oriented framework.\n",
        "\n",
        "The root is the class <code>_Loss</code>, which inherits the methods from <code>[torch.nn.Module](https://pytorch.org/docs/stable/generated/torch.nn.Module.html)</code>. It is then specified by the children: <code>EntropyMinimizationLoss</code> and <code>SplitLoss</code>. The former is used to implement the <i>Entropy Minimization Principle</i> ([Zhang <i>et al.</i>](https://arxiv.org/abs/1904.04663), § 3.2.1), while the latter specifies a series of submodules and brings together the functionalities of different losses. Specifically, the losses are characterized by two couples of mutually exclusive features: <code>source/target domain</code> and <code>split_first/split_after</code> (see § Cross-Entropy Based Losses for futher details).\n",
        "\n",
        "Therefore, the hierarchy is structured as follows: \n",
        "```\n",
        "Loss\n",
        "│\n",
        "├── EntropyMinimizationLoss\n",
        "│ \n",
        "└── SplitLoss\n",
        "    │   \n",
        "    └── SplitCrossEntropyLoss\n",
        "    |\n",
        "    └── DomainDiscriminationLoss\n",
        "```"
      ]
    },
    {
      "cell_type": "code",
      "execution_count": 21,
      "metadata": {
        "id": "66HGz_c30G9p"
      },
      "outputs": [],
      "source": [
        "class _Loss(nn.Module):\n",
        "    '''\n",
        "    This is a base abstract class representing a generic loss.\n",
        "    A few methods of common use are implemented for the benefit\n",
        "    of the child classes.\n",
        "    \n",
        "    Methods\n",
        "    -------\n",
        "    add_threshold:\n",
        "        Adds threshold to avoid log(0) cases.\n",
        "    to_softmax:\n",
        "        Computes post-softmax tensor on a \n",
        "        given output (features) tensor.\n",
        "    '''\n",
        "    \n",
        "    _THRESHOLD = 1e-20\n",
        "    \n",
        "    def __init__(self):\n",
        "        super(_Loss, self).__init__()\n",
        "        \n",
        "    def forward(self, input: Tensor):\n",
        "        prob = self.to_softmax(input)\n",
        "        loss = self.compute_loss(prob)\n",
        "        if cuda.is_available():\n",
        "            loss = loss.cuda()\n",
        "        return loss\n",
        "        \n",
        "    ### @final\n",
        "    def add_threshold(self, prob: Tensor):\n",
        "        '''\n",
        "        Check whether the probability distribution after the softmax \n",
        "        is equal to 0 in any cell. If this holds, a standard threshold\n",
        "        is added in order to avoid log(0) case. \n",
        "\n",
        "        Parameters\n",
        "        ----------\n",
        "        prob: Tensor\n",
        "            output tensor of the softmax operation\n",
        "\n",
        "        Returns\n",
        "        -------\n",
        "        Tensor\n",
        "            updated tensor (in case the condition above holds)\n",
        "        '''\n",
        "        zeros = (prob == 0)\n",
        "        if torch.any(zeros):\n",
        "            thre_tensor = torch.zeros(zeros.shape)\n",
        "            if cuda.is_available():\n",
        "                thre_tensor = thre_tensor.cuda()\n",
        "            thre_tensor[zeros] = self._THRESHOLD\n",
        "            prob = prob + thre_tensor\n",
        "        if cuda.is_available():\n",
        "            prob = prob.cuda()\n",
        "        return prob\n",
        "    \n",
        "    def to_softmax(self, features: Tensor):\n",
        "        '''\n",
        "        Apply the softmax operation on the features tensor \n",
        "        (i.e., the output of a feature extractor).\n",
        "        \n",
        "        Parameters\n",
        "        ----------\n",
        "        features: Tensor\n",
        "            output of a feature extractor (assuming that dim=1\n",
        "            is as long as the number of classes in your task)\n",
        "\n",
        "        Returns\n",
        "        -------\n",
        "        Tensor\n",
        "            probability distribution with (possible) threshold\n",
        "        '''\n",
        "        prob = F.softmax(features, dim=1)\n",
        "        prob = self.add_threshold(prob)\n",
        "        if cuda.is_available():\n",
        "            prob = prob.cuda()\n",
        "        return prob\n",
        "    \n",
        "    @abstractmethod\n",
        "    def compute_loss(self, prob: Tensor):\n",
        "        pass"
      ]
    },
    {
      "cell_type": "markdown",
      "metadata": {
        "id": "zh0hPnIcsvFG"
      },
      "source": [
        "### Entropy Minimization Principle"
      ]
    },
    {
      "cell_type": "markdown",
      "metadata": {
        "id": "3nwrX9DssvFG"
      },
      "source": [
        "The <b>Entropy Minimization</b> objective is here adopted as regularizer ([Zhang <i>et al.</i>](https://arxiv.org/abs/1904.04663), § 3.2.1) . Specifically, it updates the feature extractor (<i>G</i>) and enhances the discrimination among task categories. This enhancement is achieved by minimizing the entropy of the total (sum) probabiility of a category: \n",
        "\n",
        "$$\\displaystyle\\min_{G}\\mathcal{M}^{(st)}(G, C^{(t)}) = -\\frac{1}{n_t}\\sum_{j=1}^{n_t}\\sum_{k=1}^{K}q_k^{(st)}(x_j^{(t)})log\\bigg(q_k^{(st)}(x_j^{(t)})\\bigg)$$\n",
        "\n",
        "$$where: \\quad \\displaystyle q_k^{(st)}(x_j^{(t)}) = p_k^{(st)}(x_j^{(t)}) + p_{k+K}^{(st)}(x_j^{(t)}) \\quad k\\in{1,...,K}$$\n",
        "\n",
        "It can be argued that this regularization approach seems to enforce a <i>balanced</i> training behaviour between source and target as minimizing the entropy of the total probability (seen as <i>confidence</i>) over the source and target classifiers corresponds to minimizing the <i>surprise</i> over the source and target outcomes for each task category $k$. Thus, if the model tends to be <i>overconfident</i> about a domain (e.g., source with $p_k^{(st)}(\\underline{x}^{(t)}) \\approx 1.0$) and strongly <i>underconfident</i> about the other (e.g., target with $p_{k+K}^{(st)}(\\underline{x}^{(t)}) \\approx 0.0$), then $\\mathcal{M}^{(st)}(G, C^{(t)})$ will return zero at best. However, this value is very far from its minimum: a negative value. Reasonably, the regularizer discourages any unbalanced training behaviour and, in this case, it only updates $G$ to reduce the side effects caused by a large domain shift ([Zhang <i>et al.</i>](https://openaccess.thecvf.com/content_cvpr_2018/papers/Zhang_Importance_Weighted_Adversarial_CVPR_2018_paper.pdf), 2018). "
      ]
    },
    {
      "cell_type": "code",
      "execution_count": 22,
      "metadata": {
        "id": "EhXN9HF-0G9q"
      },
      "outputs": [],
      "source": [
        "class EntropyMinimizationLoss(_Loss):\n",
        "    '''\n",
        "    This class implements the loss for \n",
        "    the entropy minimization principle\n",
        "    '''\n",
        "    \n",
        "    def __init__(self, n_classes: int):\n",
        "        super(EntropyMinimizationLoss, self).__init__()\n",
        "        self.n_classes = n_classes\n",
        "    \n",
        "    ### @overrides\n",
        "    def compute_loss(self, prob: Tensor):\n",
        "        prob_source = prob[:, :self.n_classes]\n",
        "        prob_target = prob[:, self.n_classes:]\n",
        "        prob_sum = prob_source + prob_target\n",
        "        # applies the formula above \n",
        "        loss = -(prob_sum.log().mul(prob_sum).sum(dim=1).mean())\n",
        "        if cuda.is_available():\n",
        "            loss = loss.cuda()\n",
        "        return loss"
      ]
    },
    {
      "cell_type": "markdown",
      "metadata": {
        "id": "kWjl5wJ5svFH"
      },
      "source": [
        "### Cross-Entropy based losses \n",
        "The losses in the training objective described forehead are implemented starting from the class <code>SplitLoss</code> and are either standard cross-entropy losses or a combination of two losses (i.e., <i>two-way cross-entropy losses</i>). "
      ]
    },
    {
      "cell_type": "markdown",
      "metadata": {
        "id": "br0WNphcsvFH"
      },
      "source": [
        "#### Standard cross-entropy losses\n",
        "\n",
        "* <b>Loss of source task classifier </b> <br>\n",
        "  \n",
        "Given that two classifiers have been implemented to solve the classification task on the <i>source</i> ($C^{(s)}$) and <i>target</i> ($C^{(t)}$) domains respectively. The <b>task classifier</b> $C^{(s)}$ is trained using the following cross-entropy loss over the <i>labeled</i> source samples:\n",
        "\n",
        "$$ \\displaystyle\\min_{C^{(s)}}\\mathcal{E}_{task}^{(s)}(G, C^{(s)})=-\\frac{1}{n_{s}}\\sum_{i=1}^{n_{s}}log\\bigg(p_{y_{i}^{(s)}}^{(s)}({x}_{i}^{(s)})\\bigg) $$\n",
        "\n",
        "In the formula above, $G$ represents the <b>feature extractor</b>, ${x}_{i}^{(s)}$ is a source sample, and $p_{y_{i}^{(s)}}^{(s)}({x}_{i}^{(s)}) \\in [0,1]^{K}$ the distribution of probability after the <code>[softmax](https://pytorch.org/docs/stable/generated/torch.nn.functional.softmax.html)</code> operation. \n",
        "\n",
        "* <b>Cross-Domain Loss of Target Task Classifier</b> <br>\n",
        "  \n",
        "Since target samples are <i>unlabeled</i>, there exists no direct\n",
        "supervision signals to learn a task classifier $C^{(t)}$. Therefore, [Zhang <i>et al.</i>](https://arxiv.org/abs/1904.04663) leverage the <i>labeled</i> source samples to train $C^{(t)}$ for patterns that can be used on the taregt domain as well. This can be achieved by using the following cross-entropy loss:\n",
        "\n",
        "$$ \\displaystyle\\min_{C^{(t)}}\\mathcal{E}_{task}^{(t)}(G, C^{(t)})=-\\frac{1}{n_{s}}\\sum_{i=1}^{n_{s}}log\\bigg(p_{y_{i}^{(s)}}^{(t)}({x}_{i}^{(s)})\\bigg) $$\n",
        "\n",
        "It is worth noticing that $C^{(t)}$ will be distinguishable from $C^{(s)}$ through the domain discrimination training of the classifier $C^{(st)}$, reported below. \n",
        "\n",
        "Moreover, to reduce code redundancy, the two losses have been merged into the class <code>SplitCrossEntropyLoss</code>. They are distinguishable through a proper parameter choice, meaning <code>split_first=<font color=\"green\">True</font></code> for both and setting <code>source=<font color=\"red\">False</font></code> for the target task classifier or, otherwise, for the source task classifier.\n"
      ]
    },
    {
      "cell_type": "markdown",
      "metadata": {
        "id": "w-d_MZ7bl0b6"
      },
      "source": [
        "#### Two-way cross-entropy losses\n",
        "\n",
        "* <b>Domain Discrimination Loss </b> <br>\n",
        "  \n",
        "The difference between $C^{(t)}$ and $C^{(s)}$ is stressed by the constructed classifier $C^{(st)}$ that leverages the probabilities of classifying an input sample $x$ as the source and target domains:  \n",
        "\n",
        "$$ \\displaystyle\\min_{C^{(st)}}\\mathcal{E}_{domain}^{(st)}(G, C^{(t)})=-\\frac{1}{n_{t}}\\sum_{j=1}^{n_t}log\\bigg(\\sum_{k=1}^{K} p_{k+K}^{(st)}({x}_{j}^{(t)})\\bigg)-\\frac{1}{n_s}\\sum_{i=1}^{n_s}log\\bigg(\\sum_{k=1}^{K}p_{k}^{(st)}({x}_{i}^{(s)})\\bigg) $$\n",
        "\n",
        "* <b>Domain Discrimination Loss</b> <br>\n",
        "\n",
        "Furthermore, a two-level confusion loss is applied and aims at maximising the confusion between the domains. Whereas a first loss is category-level and relies on the source labels, the second loss is domain-level and focuses on the target. Thus, the joint distributions of features and categories across domains tend to align ([Zhang et al.](https://arxiv.org/abs/1904.04663), see  § 3.2). \n",
        "\n",
        "$$ \\displaystyle\\min_{G}\\mathcal{F}_{category}^{(st)}(G, C^{(t)})=-\\frac{1}{2n_{s}}\\sum_{i=1}^{n_s}log(p_{y_i^s+K}^{(st)}({x}_{i}^{(s)}))-\\frac{1}{2n_s}\\sum_{i=1}^{n_s}log(p_{y_i^s}^{(st)}({x}_{i}^{(s)})) $$\n",
        "\n",
        "$$ \\displaystyle\\min_{G}\\mathcal{F}_{domain}^{(st)}(G, C^{(t)})=-\\frac{1}{2n_{t}}\\sum_{j=1}^{n_t}log\\bigg(\\sum_{k=1}^{K} p_{k+K}^{(st)}({x}_{j}^{(t)})\\bigg)-\\frac{1}{2n_t}\\sum_{j=1}^{n_t}log\\bigg(\\sum_{k=1}^{K}p_{k}^{(st)}({x}_{j}^{(t)})\\bigg) $$"
      ]
    },
    {
      "cell_type": "markdown",
      "metadata": {
        "id": "BC8UPB2Z0-44"
      },
      "source": [
        "### Label Smoothing \n",
        "\n",
        "After a few attempts, we noticed how the model was overconfident as its predicted probabilities of outcomes did not reflect the accuracy. To mitigate this risk, the <b>label smoothing</b> regularization method has been applied on all the losses based on <code>SplitCrossEntropyLoss</code>. Practically, label smoothing replaces the one-hot encoded label vector $y$ with a mixture of $y$ and the uniform distribution:\n",
        "$$y_{ls} = (1 - \\alpha) \\cdot y + \\frac{\\alpha}{n}$$\n",
        "where $n$ is the number of categories, and $\\alpha$ is the hyperparameter determining the amount of smoothing. Therefore, $\\alpha = 0.0$ retrieves the original $y$ and $\\alpha= 1.0$ returns the uniform distribution [Müller et al., 2019](https://papers.nips.cc/paper/2019/hash/f1748d6b0fd9d439f71450117eba2725-Abstract.html)."
      ]
    },
    {
      "cell_type": "code",
      "execution_count": 23,
      "metadata": {
        "id": "C5zkjQbG0G9q"
      },
      "outputs": [],
      "source": [
        "class SplitLoss(_Loss):\n",
        "    '''\n",
        "    This abstract class represents a generic loss\n",
        "    such that the features array needs to be splitted\n",
        "    either before or after the softmax function is applied\n",
        "    \n",
        "    Methods\n",
        "    -------\n",
        "    split_vector:\n",
        "        Return the proper half of the input array \n",
        "        according to initialization settings\n",
        "    '''\n",
        "    \n",
        "    def __init__(self, n_classes: int, source: bool, split_first: bool, label_smoothing: float):\n",
        "        super(SplitLoss, self).__init__()\n",
        "        self.n_classes = n_classes\n",
        "        self._is_source = source\n",
        "        self._split_first = split_first\n",
        "        self.label_smoothing = label_smoothing\n",
        "    \n",
        "    ### @overrides\n",
        "    def to_softmax(self, features: Tensor):\n",
        "        if self._split_first:\n",
        "            prob = self.split_vector(features)\n",
        "            prob = F.softmax(prob, dim=1)\n",
        "        else:\n",
        "            prob = F.softmax(features, dim=1)\n",
        "            prob = self.split_vector(prob)\n",
        "        prob = self.add_threshold(prob)\n",
        "        if cuda.is_available():\n",
        "            prob = prob.cuda()\n",
        "        return prob\n",
        "    \n",
        "    ### @final\n",
        "    def split_vector(self, prob: Tensor):\n",
        "        return prob[:,:self.n_classes] if self._is_source else prob[:,self.n_classes:]"
      ]
    },
    {
      "cell_type": "code",
      "execution_count": 24,
      "metadata": {
        "id": "aDGpTlic0G9q"
      },
      "outputs": [],
      "source": [
        "class SplitCrossEntropyLoss(SplitLoss):\n",
        "    '''\n",
        "    This class realizes the abstract class SplitLoss\n",
        "    for the case in which a cross-entropy loss should be\n",
        "    applied between the softmax and the ground truth\n",
        "    \n",
        "    Properties\n",
        "    ----------\n",
        "    y_labels:\n",
        "        ground truth is transformed properly \n",
        "        so to ease the accuracy computation\n",
        "    '''\n",
        "    \n",
        "    def _get_y_labels(self) -> Tensor:\n",
        "        return self._y_labels\n",
        "    def _set_y_labels(self, y_labels: list):\n",
        "        # Set the proper device \n",
        "        dev = 'cuda:0' if cuda.is_available() else 'cpu:0'\n",
        "        # Transform the target labels into a long tensor object\n",
        "        y_labels_tns = torch.tensor(y_labels, dtype=torch.long, device=dev)\n",
        "        # One-hot encode the target labels \n",
        "        self._y_labels = F.one_hot(y_labels_tns, num_classes=self.n_classes)\n",
        "        # Cast the one-hot-encoded long tensor object into a float tensor object\n",
        "        # to ensure type compatibility with the probabilities tensor object (i.e., prob)\n",
        "        self._y_labels = self._y_labels.type(torch.float)\n",
        "    y_labels = property(fget=_get_y_labels, fset=_set_y_labels)\n",
        "    \n",
        "    def __init__(self, n_classes: int, source: bool, split_first: bool, label_smoothing: float):\n",
        "        super(SplitCrossEntropyLoss, self).__init__(n_classes, source, split_first, label_smoothing)\n",
        "        # apply label smoothing to mitigate overconfidence phenomenon\n",
        "        self.cross_entropy_loss = CrossEntropyLoss(label_smoothing=self.label_smoothing)\n",
        "        if cuda.is_available():\n",
        "            self.cross_entropy_loss = self.cross_entropy_loss.cuda()\n",
        "    \n",
        "    ### @overrides\n",
        "    def compute_loss(self, prob: Tensor):\n",
        "        loss = self.cross_entropy_loss(prob, self.y_labels)\n",
        "        if cuda.is_available():\n",
        "            loss = loss.cuda()\n",
        "        return loss"
      ]
    },
    {
      "cell_type": "code",
      "execution_count": 25,
      "metadata": {
        "id": "9WJRrEK20G9r"
      },
      "outputs": [],
      "source": [
        "class DomainDiscriminationLoss(SplitLoss):\n",
        "    '''\n",
        "    This class realizes the abstract class SplitLoss\n",
        "    for the case in which a cross-entropy loss should be\n",
        "    applied on the total probability for one of the two\n",
        "    domains (hence, now the input of the cross-entropy is \n",
        "    actually the probability of classifying a sample as \n",
        "    belonging to that domain)\n",
        "    '''\n",
        "    \n",
        "    def __init__(self, n_classes: int, source: bool):\n",
        "        super(DomainDiscriminationLoss, self).__init__(n_classes, source, False, 0.0)\n",
        "        \n",
        "    ### @overrides\n",
        "    def compute_loss(self, prob: Tensor):\n",
        "        loss = -(prob.sum(dim=1).log().mean())\n",
        "        if cuda.is_available():\n",
        "            loss = loss.cuda()\n",
        "        return loss"
      ]
    },
    {
      "cell_type": "markdown",
      "metadata": {
        "id": "um5fczHysvFI"
      },
      "source": [
        "Accordingly to the definition of the overall model's objective ([Zhang <i>et al.</i>](https://arxiv.org/abs/1904.04663), § 3.3), the class <code>TrainingObjectives</code> recalls the aforementioned losses. \n",
        "\n",
        "Moreover, the $\\lambda$ trade-off parameter is introduced to suppress noisy signals for domain confusion loss and entropy. $\\lambda$ value depends on the number of epochs, as it is iteratively computed through the following formula:\n",
        "\n",
        "$$\\lambda = \\frac{2}{1 + e^{(- \\gamma \\cdot \\frac{ep}{n_{ep}})}} - 1$$\n",
        "\n",
        "where $\\gamma$ is usually set to $10$ (see § 4.1) and $\\frac{ep}{n_{ep}}$ is iteratively updated at each epoch, as it represents the current epoch over the total. Therefore, $\\lambda$ parameter will start from $0$ and gradually increase ($ep = n_{ep} → \\lambda \\approx 1$). \n",
        "Thus, the penalty provided by $\\lambda$ on domain confusion loss and entropy decreases over time, coherently with the fact that the latter might be pretty noisy in the first few epochs, and thus they shouldn't be much relevant on the overall generator loss. "
      ]
    },
    {
      "cell_type": "code",
      "execution_count": 26,
      "metadata": {
        "id": "rSp7_hu20G9r"
      },
      "outputs": [],
      "source": [
        "class TrainingObjectives:\n",
        "    \"\"\"\n",
        "    This class combines the final elements and \n",
        "    structures the final training objective. \n",
        "    \"\"\"\n",
        "    \n",
        "    @staticmethod\n",
        "    def domain_discrimination_loss(src_dom_discrim_loss, tgt_dom_discrim_loss):\n",
        "        return src_dom_discrim_loss + tgt_dom_discrim_loss\n",
        "    \n",
        "    @staticmethod\n",
        "    def category_confusion_loss(src_cat_conf_loss, tgt_cat_conf_loss):\n",
        "        return 0.5 * (src_cat_conf_loss + tgt_cat_conf_loss)\n",
        "    \n",
        "    @staticmethod\n",
        "    def domain_confusion_loss(src_dom_conf_loss, tgt_dom_conf_loss):\n",
        "        return 0.5 * (src_dom_conf_loss + tgt_dom_conf_loss)\n",
        "    \n",
        "    @staticmethod\n",
        "    def overall_classifier_loss(src_task_class_loss, tgt_task_class_loss, domain_discrim_loss):\n",
        "        return src_task_class_loss + tgt_task_class_loss + domain_discrim_loss\n",
        "    \n",
        "    @staticmethod\n",
        "    def overall_generator_loss(cat_conf_loss, dom_conf_loss, tgt_entropy_loss, curr_epoch, tot_epochs):\n",
        "        # trade off parameter as formula above \n",
        "        lambda_trade_off = 2 / (1 + math.exp(-1 * 10 * curr_epoch / tot_epochs)) - 1\n",
        "        return cat_conf_loss + lambda_trade_off * (dom_conf_loss + tgt_entropy_loss)"
      ]
    },
    {
      "cell_type": "markdown",
      "metadata": {
        "id": "wfsk22OulkK0"
      },
      "source": [
        "## SymNet"
      ]
    },
    {
      "cell_type": "code",
      "execution_count": 27,
      "metadata": {
        "id": "xNNN7Mwo0G9s"
      },
      "outputs": [],
      "source": [
        "class SymNet:\n",
        "    \n",
        "    def __init__(self, model: FeatureExtractor, loader: ModelSaver, n_classes: int, epochs: int, patience: int, label_smoothing: float):\n",
        "        \"\"\"Initialize and run the SymNet model \n",
        "        \n",
        "        Parameters\n",
        "        ----------\n",
        "        model: FeatureExtractor\n",
        "            ResNet backbone model \n",
        "        loader: ModelSaver\n",
        "            loader to store the partial and final results of the training\n",
        "        n_classes: int\n",
        "            number of classes (i.e., here 20)\n",
        "        epochs: int\n",
        "            number of epochs the model is trained if not previously stopped\n",
        "        patience: int\n",
        "            number of epochs the model waits before (early) stopping \n",
        "        label_smoothing: float \n",
        "            amount of smoothing when computing the loss, where 0.0 means no smoothing\n",
        "        \n",
        "        Methods\n",
        "        ----------\n",
        "        train_step: \n",
        "            Perform the train step for each batch \n",
        "        train_epoch: \n",
        "            Perform the train for each epoch\n",
        "        val_step: \n",
        "            Perform the validation for each batch \n",
        "        val_epoch: \n",
        "            Perform the validation for each epoch\n",
        "        train_validate: \n",
        "            Iterate the process of train/validation for n epochs (or till early-stopping)\n",
        "        overall_losses: \n",
        "            Structure the different losses in a readable format\n",
        "        \"\"\"\n",
        "        self.curr_epoch = 0\n",
        "        self.tot_epochs = epochs\n",
        "        self.n_classes = n_classes\n",
        "        self.model = model\n",
        "        self.loader = loader\n",
        "        self.patience = patience \n",
        "        self.label_smoothing = label_smoothing\n",
        "        \n",
        "        # Losses \n",
        "        self.src_task_class_loss = SplitCrossEntropyLoss(n_classes=n_classes, source=True, split_first=True, label_smoothing=label_smoothing)\n",
        "        self.tgt_task_class_loss = SplitCrossEntropyLoss(n_classes=n_classes, source=False, split_first=True, label_smoothing=label_smoothing)\n",
        "        # Domain discrimination losses\n",
        "        self.src_dom_discrim_loss = DomainDiscriminationLoss(n_classes=n_classes, source=True)\n",
        "        self.tgt_dom_discrim_loss = DomainDiscriminationLoss(n_classes=n_classes, source=False)\n",
        "        # Category-level confusion losses\n",
        "        self.src_cat_conf_loss = SplitCrossEntropyLoss(n_classes=n_classes, source=True, split_first=False, label_smoothing=label_smoothing)\n",
        "        self.tgt_cat_conf_loss = SplitCrossEntropyLoss(n_classes=n_classes, source=False, split_first=False, label_smoothing=label_smoothing)\n",
        "        # Domain-level confusion losses\n",
        "        self.src_dom_conf_loss = DomainDiscriminationLoss(n_classes=n_classes, source=True)\n",
        "        self.tgt_dom_conf_loss = DomainDiscriminationLoss(n_classes=n_classes, source=False)\n",
        "        # Entropy minimization loss\n",
        "        self.tgt_entropy_loss = EntropyMinimizationLoss(n_classes=n_classes)   \n",
        "\n",
        "        if cuda.is_available():\n",
        "            # Task classifier losses\n",
        "            self.src_task_class_loss = self.src_task_class_loss.cuda()\n",
        "            self.tgt_task_class_loss = self.tgt_task_class_loss.cuda()\n",
        "            # Domain discrimination losses\n",
        "            self.src_dom_discrim_loss = self.src_dom_discrim_loss.cuda()\n",
        "            self.tgt_dom_discrim_loss = self.tgt_dom_discrim_loss.cuda()\n",
        "            # Category-level confusion losses\n",
        "            self.src_cat_conf_loss = self.src_cat_conf_loss.cuda()\n",
        "            self.tgt_cat_conf_loss = self.tgt_cat_conf_loss.cuda()\n",
        "            # Domain-level confusion losses\n",
        "            self.src_dom_conf_loss = self.src_dom_conf_loss.cuda()\n",
        "            self.tgt_dom_conf_loss = self.tgt_dom_conf_loss.cuda()\n",
        "            # Entropy minimization loss\n",
        "            self.tgt_entropy_loss = self.tgt_entropy_loss.cuda()    \n",
        "\n",
        "\n",
        "## TRAINING ##\n",
        "    def train_step(self, X_source: Tensor, y_source: Tensor, X_target: Tensor):\n",
        "        # Tell model go training mode\n",
        "        self.model.model.train()\n",
        "        # Compute features for both inputs\n",
        "        y_source_pred = self.model.model(X_source)\n",
        "        y_target_pred = self.model.model(X_target)\n",
        "        # Compute overall training objective losses\n",
        "        classifier_loss, generator_loss = self.overall_losses(\n",
        "            y_source_pred, \n",
        "            y_target_pred, \n",
        "            y_source)\n",
        "        # Compute gradients w.r.t. classifier loss\n",
        "        self.model.optim.zero_grad()\n",
        "        classifier_loss.backward(retain_graph=True)\n",
        "        grad_classifier_tmp = []\n",
        "        for p in self.model.model.parameters():\n",
        "            if p.grad is not None:\n",
        "                grad_classifier_tmp.append(p.grad.data.clone())\n",
        "        # Compute gradients w.r.t. generator loss\n",
        "        self.model.optim.zero_grad()\n",
        "        generator_loss.backward()\n",
        "        grad_generator_tmp = []\n",
        "        for p in self.model.model.parameters():\n",
        "            if p.grad is not None:\n",
        "                grad_generator_tmp.append(p.grad.data.clone())\n",
        "        # Update gradient data for each parameter \n",
        "        count = 0 \n",
        "        appended = 0 \n",
        "        n_classification_params = 2 \n",
        "        n_params = len(list(self.model.model.parameters()))\n",
        "        for p in self.model.model.parameters():\n",
        "            if p.grad is not None:\n",
        "                grad_tmp = p.grad.data.clone()\n",
        "                grad_tmp.zero_() \n",
        "                if count < (n_params - n_classification_params): \n",
        "                    grad_tmp = grad_tmp + grad_generator_tmp[appended]\n",
        "                else: \n",
        "                    grad_tmp = grad_tmp + grad_classifier_tmp[appended]\n",
        "                appended = appended + 1 \n",
        "                p.grad.data = grad_tmp\n",
        "            count = count + 1\n",
        "        # Perform optimizer step    \n",
        "        self.model.optim.step()\n",
        "        \n",
        "        # Calculate accuracies\n",
        "        # Ground truth \n",
        "        y_source_true = y_source.clone().tolist()\n",
        "        # Predicted labels\n",
        "        y_source_pred = y_source_pred.clone()\n",
        "        \n",
        "        # Predictions on the first half (i.e., source)\n",
        "        y_source_pred1 = torch.argmax(y_source_pred[:,:self.n_classes], dim=1).tolist()\n",
        "        acc_on_source_half = accuracy_score(y_source_true, y_source_pred1)\n",
        "        \n",
        "        # Predictions on the second half (i.e., target)\n",
        "        y_source_pred2 = torch.argmax(y_source_pred[:,self.n_classes:], dim=1).tolist()\n",
        "        acc_on_target_half = accuracy_score(y_source_true, y_source_pred2)\n",
        "\n",
        "        # Return losses and accuracies\n",
        "        return classifier_loss.item(), generator_loss.item(), acc_on_source_half, acc_on_target_half\n",
        "\n",
        "    def train_epoch(self, source_train: DataLoader, target_train: DataLoader):\n",
        "        end_of_epoch = False\n",
        "        source_batch_loader = enumerate(source_train)\n",
        "        target_batch_loader = enumerate(target_train)\n",
        "        \n",
        "        # Store partial results of the training\n",
        "        gen_losses = []\n",
        "        cl_losses = []\n",
        "        accuracies_src = []\n",
        "        accuracies_tgt = []\n",
        "        \n",
        "        # Train current epoch\n",
        "        while not end_of_epoch:\n",
        "            try:\n",
        "                # Get next batch for both source and target\n",
        "                (X_source, y_source) = next(source_batch_loader)[1]\n",
        "                (X_target, _) = next(target_batch_loader)[1]\n",
        "                if cuda.is_available():\n",
        "                    X_source = X_source.cuda()\n",
        "                    y_source = y_source.cuda()\n",
        "                    X_target = X_target.cuda()\n",
        "                # Apply training step\n",
        "                cl_loss, gen_loss, acc_src, acc_tgt = self.train_step(X_source, y_source, X_target)\n",
        "                # Append losses and accuracies\n",
        "                cl_losses.append(cl_loss)\n",
        "                gen_losses.append(gen_loss)\n",
        "                accuracies_src.append(acc_src)\n",
        "                accuracies_tgt.append(acc_tgt)\n",
        "            except StopIteration: \n",
        "                end_of_epoch = True\n",
        "        # Return average training losses and accuracies for this epoch\n",
        "        return mean(cl_losses), mean(gen_losses), mean(accuracies_src), mean(accuracies_tgt)\n",
        "\n",
        "\n",
        "## VALIDATION ## \n",
        "    def val_step(self, X_target: Tensor, y_target: Tensor) -> (float, float):\n",
        "        # Switch to validation mode\n",
        "        self.model.model.eval()\n",
        "        # Get outputs for target domain\n",
        "        with torch.no_grad():\n",
        "            y_target_pred = self.model.model(X_target)\n",
        "        \n",
        "        # Calculate accuracy\n",
        "        # Ground truth \n",
        "        y_target_true = y_target.clone().tolist()\n",
        "        \n",
        "        # Predicted labels \n",
        "        y_target_pred = y_target_pred.clone()\n",
        "        \n",
        "        # Prediction on the first half \n",
        "        y_target_pred1 = torch.argmax(y_target_pred[:,:self.n_classes], dim=1).tolist()\n",
        "        acc_on_source_half = accuracy_score(y_target_true, y_target_pred1)\n",
        "        \n",
        "        # Prediction on the second half \n",
        "        y_target_pred2 = torch.argmax(y_target_pred[:,self.n_classes:], dim=1).tolist()\n",
        "        acc_on_target_half = accuracy_score(y_target_true, y_target_pred2)\n",
        "\n",
        "        # Return accuracies\n",
        "        return acc_on_source_half, acc_on_target_half\n",
        "    \n",
        "    def val_epoch(self, target_val: DataLoader) -> (float, float):\n",
        "        end_of_epoch = False\n",
        "        target_batch_loader = enumerate(target_val)\n",
        "        \n",
        "        # Store the partial results of the validation\n",
        "        accuracies_src = []\n",
        "        accuracies_tgt = []\n",
        "        \n",
        "        # Validate current epoch\n",
        "        while not end_of_epoch:\n",
        "            try:\n",
        "                # Get next batch for both source and target\n",
        "                (X_target, y_target) = next(target_batch_loader)[1]\n",
        "                if cuda.is_available():\n",
        "                    X_target = X_target.cuda()\n",
        "                    y_target = y_target.cuda()\n",
        "                # Apply validation step\n",
        "                acc_src, acc_tgt = self.val_step(X_target, y_target)\n",
        "                # Append accuracies\n",
        "                accuracies_src.append(acc_src)\n",
        "                accuracies_tgt.append(acc_tgt)\n",
        "            except StopIteration: \n",
        "                end_of_epoch = True\n",
        "        # Return average validation accuracies \n",
        "        return mean(accuracies_src), mean(accuracies_tgt)\n",
        "    \n",
        "    def train_validate(self, source_train: DataLoader, target_train: DataLoader, target_val: DataLoader) -> float:\n",
        "        \n",
        "        # Keep track of the results for train and validation per epoch\n",
        "        tr_cl_losses = []\n",
        "        tr_gen_losses = []\n",
        "        tr_src_accs = []\n",
        "        tr_tgt_accs = []\n",
        "        val_src_accs = []\n",
        "        val_tgt_accs = []\n",
        "        best_acc_tgt = 0.0\n",
        "        patience = self.patience\n",
        "        epochs_iter = tqdm(\n",
        "            range(self.tot_epochs), \n",
        "            unit = \"epoch\",\n",
        "            desc = \"TRAINING\")\n",
        "        \n",
        "        # Train and validation step for each epoch\n",
        "        for epoch in epochs_iter:\n",
        "            self.curr_epoch = epoch\n",
        "            # Train current epoch\n",
        "            cl_loss, gen_loss, tr_acc_src, tr_acc_tgt = self.train_epoch(source_train, target_train)\n",
        "            # Store training results\n",
        "            tr_cl_losses.append(cl_loss)\n",
        "            tr_gen_losses.append(gen_loss)\n",
        "            tr_src_accs.append(tr_acc_src)\n",
        "            tr_tgt_accs.append(tr_acc_tgt)\n",
        "            # Show training results\n",
        "            epochs_iter.set_postfix({\n",
        "                \"tr_cl_loss\": round(cl_loss, 3), \n",
        "                \"tr_gen_loss\": round(gen_loss, 3),\n",
        "                \"tr_acc_on_src\": round(tr_acc_src, 3),\n",
        "                \"tr_acc_on_tgt\": round(tr_acc_tgt, 3)\n",
        "            })\n",
        "            \n",
        "            # Validate current epoch\n",
        "            val_acc_src, val_acc_tgt = self.val_epoch(target_val)\n",
        "            # Store validation results\n",
        "            val_src_accs.append(val_acc_src)\n",
        "            val_tgt_accs.append(val_acc_tgt)\n",
        "            # Show validation results\n",
        "            epochs_iter.set_postfix({\n",
        "                \"tr_cl_loss\": round(cl_loss, 3), \n",
        "                \"tr_gen_loss\": round(gen_loss, 3),\n",
        "                \"tr_acc_on_src\": round(tr_acc_src, 3),\n",
        "                \"tr_acc_on_tgt\": round(tr_acc_tgt, 3),\n",
        "                \"val_acc_on_src\": round(val_acc_src, 3),\n",
        "                \"val_acc_on_tgt\": round(val_acc_tgt, 3)\n",
        "            })\n",
        "            # Manage patience for early-stopping\n",
        "            if epoch > self.patience and val_acc_tgt < max(val_tgt_accs[-self.patience:]):\n",
        "                # Decrease current patience\n",
        "                patience = patience - 1\n",
        "                print(f'\\n--- PATIENCE={patience} ---') \n",
        "                if patience == 0:\n",
        "                    print('\\n--- EARLY STOPPING ---')\n",
        "                    break # Interrupt iteration\n",
        "            else:\n",
        "                # Reset current patience\n",
        "                patience = self.patience\n",
        "                # Evaluate model performance and save the best model \n",
        "                if val_acc_tgt > best_acc_tgt:\n",
        "                    best_acc_tgt = val_acc_tgt\n",
        "                    self.loader.model_save(\n",
        "                        model = self.model.model,\n",
        "                        optimizer = self.model.optim)\n",
        "                    print('\\n--- SAVED NEW BEST MODEL ---')\n",
        "        # Save hyperparameters  \n",
        "        self.loader.save_hyperparam()\n",
        "        # Save final results\n",
        "        self.loader.save_results({\n",
        "            'tr_cl_losses': tr_cl_losses,\n",
        "            'tr_gen_losses': tr_gen_losses,\n",
        "            'tr_src_accs': tr_src_accs,\n",
        "            'tr_tgt_accs': tr_tgt_accs,\n",
        "            'val_src_accs': val_src_accs,\n",
        "            'val_tgt_accs': val_tgt_accs\n",
        "        })\n",
        "\n",
        "        # Return best avg accuracy on target  \n",
        "        return max(val_tgt_accs)\n",
        "\n",
        "    def overall_losses(self, y_source_pred: Tensor, y_target_pred: Tensor, y_source_true: Tensor) -> (Tensor, Tensor):\n",
        "        # Source task classifier loss\n",
        "        self.src_task_class_loss.y_labels = y_source_true\n",
        "        _src_task_class_loss = self.src_task_class_loss(y_source_pred)\n",
        "        # (Cross-domain) Target task classifier loss\n",
        "        self.tgt_task_class_loss.y_labels = y_source_true\n",
        "        _tgt_task_class_loss = self.tgt_task_class_loss(y_source_pred)\n",
        "        # Domain discrimination loss\n",
        "        _src_dom_discrim_loss = self.src_dom_discrim_loss(y_source_pred)\n",
        "        _tgt_dom_discrim_loss = self.tgt_dom_discrim_loss(y_target_pred)\n",
        "        _domain_discrim_loss = TrainingObjectives.domain_discrimination_loss(\n",
        "            _src_dom_discrim_loss, \n",
        "            _tgt_dom_discrim_loss)\n",
        "        # Category-level confusion loss\n",
        "        self.src_cat_conf_loss.y_labels = y_source_true\n",
        "        self.tgt_cat_conf_loss.y_labels = y_source_true\n",
        "        _src_cat_conf_loss = self.src_cat_conf_loss(y_source_pred)\n",
        "        _tgt_cat_conf_loss = self.tgt_cat_conf_loss(y_source_pred)\n",
        "        _category_conf_loss = TrainingObjectives.category_confusion_loss(\n",
        "            _src_cat_conf_loss, \n",
        "            _tgt_cat_conf_loss)\n",
        "        # Domain-level confusion loss\n",
        "        _src_dom_conf_loss = self.src_cat_conf_loss(y_target_pred)\n",
        "        _tgt_dom_conf_loss = self.tgt_cat_conf_loss(y_target_pred)\n",
        "        _domain_conf_loss = TrainingObjectives.domain_confusion_loss(\n",
        "            _src_dom_conf_loss, \n",
        "            _tgt_dom_conf_loss)\n",
        "        # Entropy minimization loss\n",
        "        _tgt_entropy_loss = self.tgt_entropy_loss(y_target_pred)\n",
        "        # Overall classifier loss\n",
        "        _overall_classifier_loss = TrainingObjectives.overall_classifier_loss(\n",
        "            _src_task_class_loss, \n",
        "            _tgt_task_class_loss, \n",
        "            _domain_discrim_loss)\n",
        "        # Overall feature extractor loss\n",
        "        _overall_generator_loss = TrainingObjectives.overall_generator_loss(\n",
        "            _category_conf_loss, \n",
        "            _domain_conf_loss, \n",
        "            _tgt_entropy_loss, \n",
        "            self.curr_epoch, \n",
        "            self.tot_epochs)\n",
        "        # Return obtained overall losses\n",
        "        return _overall_classifier_loss, _overall_generator_loss"
      ]
    },
    {
      "cell_type": "markdown",
      "metadata": {
        "id": "Jwa_O2xT0G9u"
      },
      "source": [
        "# Source-Only Architecture"
      ]
    },
    {
      "cell_type": "markdown",
      "metadata": {
        "id": "ZtZKQbfAgV6Z"
      },
      "source": [
        "Along with external baseline results, an internal criterion is required to evaluate the goodness of the UDA component. Therefore, a source-only architecture has been deployed. It follows a similar architecture to the SymNet, employing the Feature Extractor (i.e., [<code>ResNet</code>](https://pytorch.org/hub/pytorch_vision_resnet/)), but without the adversarial training objective. Thus, the model is trained simpoly usinga [<code>nn.CrossEntropyLoss </code>](https://pytorch.org/docs/stable/generated/torch.nn.CrossEntropyLoss.html)(with <code>label_smoothing=0.0</code>). \n",
        "\n",
        "In this case, the model is supervisedly trained on the <i>source domain </i> and then directly evaluated on the  <i>target domain</i>. Therefore, the source-only scenario accuracy ($acc_{so}$) is expected to be lower than the accuracy of the UDA architecture ($acc_{uda}$). To validate this assumption and assess the goodness of the UDA architecture, the <i>gain</i> measure can be computed as follows:\n",
        "$$G = acc_{uda} − acc_{so}$$"
      ]
    },
    {
      "cell_type": "code",
      "execution_count": 28,
      "metadata": {
        "id": "s7bKkf9g0G9u"
      },
      "outputs": [],
      "source": [
        "class SourceOnly:\n",
        "    \n",
        "    def __init__(self, model: FeatureExtractor, so_loader: ModelSaver, n_classes: int, epochs: int, patience: int):\n",
        "        \"\"\"Initialize the Source-Only model \n",
        "        \n",
        "        Parameters\n",
        "        ----------\n",
        "        model: FeatureExtractor\n",
        "            ResNet backbone model (with source_only=True)\n",
        "        loader: ModelSaver\n",
        "            loader to store the final results (with source_only=True)\n",
        "        n_classes: int\n",
        "            number of classes (i.e., here 20)\n",
        "        epochs: int\n",
        "            number of epochs the model is trained if not previously stopped\n",
        "        patience: int\n",
        "            number of epochs the model waits before (early) stopping \n",
        "        \n",
        "        Methods\n",
        "        ----------\n",
        "        train_step: \n",
        "            Perform the train step for each batch \n",
        "        train_epoch: \n",
        "            Perform the train for each epoch\n",
        "        val_step: \n",
        "            Perform the validation for each batch \n",
        "        val_epoch: \n",
        "            Perform the validation for each epoch\n",
        "        train_validate: \n",
        "            Iterate the process of train/validation for n epochs (or till early-stopping)\n",
        "        \"\"\"\n",
        "\n",
        "        self.patience = patience\n",
        "        self.tot_epochs = epochs\n",
        "        self.n_classes = n_classes\n",
        "        self.so_loader = so_loader\n",
        "        # same backbone of the UDA architecture but only n_classes as output  \n",
        "        self.model = model \n",
        "        # chosen loss \n",
        "        self.loss = CrossEntropyLoss()\n",
        "        if cuda.is_available(): \n",
        "            self.loss = self.loss.cuda()\n",
        "    \n",
        "    ## TRAINING ##\n",
        "    def train_step(self, X_source: Tensor, y_source: Tensor) -> float:\n",
        "        # Tell model go training mode\n",
        "        self.model.model.train()\n",
        "        # Compute features for both inputs\n",
        "        y_source_pred = self.model.model(X_source)\n",
        "        # Compute overall training objective losses\n",
        "        y_src = y_source.clone()\n",
        "        general_loss = self.loss(y_source_pred, y_src)\n",
        "        # Compute gradients w.r.t. classifier loss\n",
        "        self.model.optim.zero_grad()\n",
        "        general_loss.backward()\n",
        "        # Perform optimizer step    \n",
        "        self.model.optim.step()\n",
        "        y_true = y_source.clone().tolist()\n",
        "        y_pred = y_source_pred.clone()\n",
        "        y_pred = torch.argmax(y_pred, dim=1).tolist()\n",
        "        # Compute and return accuracy \n",
        "        return accuracy_score(y_true, y_pred)\n",
        "    \n",
        "    def train_epoch(self, source_train: DataLoader) -> float:\n",
        "        end_of_epoch = False\n",
        "        source_batch_loader = enumerate(source_train)\n",
        "        acc = []\n",
        "        # Train for current epoch\n",
        "        while not end_of_epoch:\n",
        "            try:\n",
        "                # Get next batch for both source and target\n",
        "                (X_source, y_source) = next(source_batch_loader)[1]\n",
        "                if cuda.is_available():\n",
        "                    X_source = X_source.cuda()\n",
        "                    y_source = y_source.cuda()\n",
        "                accuracy = self.train_step(X_source, y_source)\n",
        "                acc.append(accuracy)\n",
        "            except StopIteration: \n",
        "                end_of_epoch = True\n",
        "         # Return average training accuracy for this epoch\n",
        "        return mean(acc)\n",
        "    \n",
        "    \n",
        "    ## VALIDATION ##\n",
        "    def val_step(self, X_target: Tensor, y_target: Tensor) -> float:\n",
        "        self.model.model.eval()\n",
        "        with torch.no_grad():\n",
        "            y_target_pred = self.model.model(X_target)\n",
        "        # Ground Truth\n",
        "        y_target_true = y_target.clone().tolist()\n",
        "        \n",
        "        # Predictions \n",
        "        y_target_pred = y_target_pred.clone()\n",
        "        y_target_pred = torch.argmax(y_target_pred, dim=1).tolist()\n",
        "        # Calculate accuracy and return it \n",
        "        return accuracy_score(y_target_true, y_target_pred)\n",
        "    \n",
        "    def val_epoch(self, target_val: DataLoader) -> float:\n",
        "        end_of_epoch = False\n",
        "        target_batch_loader = enumerate(target_val)\n",
        "        accuracies = []\n",
        "        # Validate current epoch\n",
        "        while not end_of_epoch:\n",
        "            try:\n",
        "                # Get next batch for target\n",
        "                (X_target, y_target) = next(target_batch_loader)[1]\n",
        "                if cuda.is_available():\n",
        "                    X_target = X_target.cuda()\n",
        "                    y_target = y_target.cuda()\n",
        "                # Apply validation step\n",
        "                acc = self.val_step(X_target, y_target)\n",
        "                # Append accuracy\n",
        "                accuracies.append(acc)\n",
        "            except StopIteration: \n",
        "                end_of_epoch = True\n",
        "        # Return average validation accuracy for this epoch\n",
        "        return mean(accuracies)\n",
        "    \n",
        "\n",
        "    def train_validate(self, source_train: DataLoader, target_val: DataLoader) -> float:\n",
        "        \n",
        "        # Keep track of the validation accuracy on the target\n",
        "        val_accuracies = []\n",
        "        epochs_iter = tqdm(\n",
        "            range(self.tot_epochs), \n",
        "            unit = \"epoch\",\n",
        "            desc = \"SOURCE-ONLY TRAINING\")\n",
        "        for e in epochs_iter:\n",
        "            # Train current epoch\n",
        "            self.train_epoch(source_train)\n",
        "            # Validate current epoch\n",
        "            acc_val = self.val_epoch(target_val)\n",
        "            # Store validation result \n",
        "            val_accuracies.append(acc_val)\n",
        "            # Show validation results\n",
        "            epochs_iter.set_postfix({\n",
        "                \"val_accuracy_domain_shift\": round(acc_val, 3)\n",
        "            })\n",
        "\n",
        "            if e > self.patience and acc_val < max(val_accuracies[-self.patience:]):\n",
        "                # Decrease current patience\n",
        "                patience = patience - 1\n",
        "                print(f'\\n--- PATIENCE={patience} ---') \n",
        "                if patience == 0:\n",
        "                    print('\\n--- EARLY STOPPING ---') \n",
        "                    break # Interrupt iteration\n",
        "            else: \n",
        "                patience = self.patience\n",
        "        \n",
        "        self.so_loader.save_results({\n",
        "            'val_accuracies': val_accuracies\n",
        "            })\n",
        "        # Return best accuracy on target  \n",
        "        return max(val_accuracies)\n"
      ]
    },
    {
      "cell_type": "markdown",
      "metadata": {
        "id": "qvrTPgYTbGh2"
      },
      "source": [
        "# Training "
      ]
    },
    {
      "cell_type": "markdown",
      "metadata": {
        "id": "qqcLMwbhsvFJ"
      },
      "source": [
        "Both directions $P \\rightarrow RW$ and $RW \\rightarrow P$ will be perfomed aiming at assessing higher than the external baseline: \n",
        "<center>\n",
        "\n",
        "| Version| $P \\rightarrow R$ |  $R \\rightarrow P$ | \n",
        "|  :----: | :-----------: |:----------: | \n",
        "| Source-only | $76 \\%$ |$90 \\%$|\n",
        "| SymNet | $80 \\%$ | $93 \\%$| \n",
        "\n",
        "</center>"
      ]
    },
    {
      "cell_type": "markdown",
      "metadata": {
        "id": "5FAwH4nZsvFJ"
      },
      "source": [
        "## Direction R$→$P"
      ]
    },
    {
      "cell_type": "code",
      "execution_count": null,
      "metadata": {
        "colab": {
          "base_uri": "https://localhost:8080/",
          "height": 140,
          "referenced_widgets": [
            "1b1c0854f78146e1bd7c78bba1740d3a",
            "1916883c18e548cc892072e9e9272dc7",
            "2d1b1519b84a45d9a0e55482772f2aee",
            "0ba30ecf34244f4cb3aeba6b618a66ee",
            "149df33c2c8c4807a74aa05cde2f3b03",
            "d2f00ffe7e7d4bfeb82c1e66a2414410",
            "c5087c481bd64697a0da3a8acbfc4fff",
            "198b6d8958e84679affe6dbb699f2706",
            "c200b2818ea942e2bd05fa18ec22ac23",
            "d97bcf74d4104b53928dbb646f350e41",
            "2e6603df4a784115aacca03e47cc43b9"
          ]
        },
        "id": "Lpm0K41_0G9t",
        "outputId": "84396a16-9d9a-4e17-866d-c3c813c87689"
      },
      "outputs": [
        {
          "output_type": "stream",
          "name": "stderr",
          "text": [
            "Downloading: \"https://download.pytorch.org/models/resnet50-0676ba61.pth\" to /root/.cache/torch/hub/checkpoints/resnet50-0676ba61.pth\n"
          ]
        },
        {
          "output_type": "display_data",
          "data": {
            "text/plain": [
              "  0%|          | 0.00/97.8M [00:00<?, ?B/s]"
            ],
            "application/vnd.jupyter.widget-view+json": {
              "version_major": 2,
              "version_minor": 0,
              "model_id": "1b1c0854f78146e1bd7c78bba1740d3a"
            }
          },
          "metadata": {}
        },
        {
          "output_type": "stream",
          "name": "stderr",
          "text": [
            "TRAINING:   0%|          | 1/250 [01:51<7:43:39, 111.72s/epoch, tr_cl_loss=29.7, tr_gen_loss=3.01, tr_acc_on_src=0.046, tr_acc_on_tgt=0.048, val_acc_on_src=0.052, val_acc_on_tgt=0.057]"
          ]
        },
        {
          "output_type": "stream",
          "name": "stdout",
          "text": [
            "\n",
            "--- SAVED NEW BEST MODEL ---\n"
          ]
        },
        {
          "output_type": "stream",
          "name": "stderr",
          "text": [
            "TRAINING:  39%|███▉      | 97/250 [2:47:09<4:21:56, 102.72s/epoch, tr_cl_loss=17.1, tr_gen_loss=5.9, tr_acc_on_src=0.052, tr_acc_on_tgt=0.052, val_acc_on_src=0.052, val_acc_on_tgt=0.057]"
          ]
        }
      ],
      "source": [
        "loader = ModelSaver('/content')\n",
        "\n",
        "uda_generator = FeatureExtractor(n_classes, model=model, optimizer=optim, \n",
        "                                n_params_trained=n_params_trained, \n",
        "                                lr=lr, weight_decay=weight_decay, \n",
        "                                dropout=dropout, source_only=False)\n",
        "\n",
        "symnet = SymNet(uda_generator, loader, n_classes, n_epochs, patience, label_smoothing)\n",
        "\n",
        "# Train on both source and target, validate only on target \n",
        "acc_uda_r2p = symnet.train_validate(source_train_loader, target_train_loader, target_val_loader)"
      ]
    },
    {
      "cell_type": "code",
      "execution_count": null,
      "metadata": {
        "id": "u4P3VCrH0G9u"
      },
      "outputs": [],
      "source": [
        "so_loader = ModelSaver('/content', source_only = True)\n",
        "\n",
        "so_generator = FeatureExtractor(n_classes, model=model, optimizer=optim, \n",
        "                                n_params_trained=n_params_trained, \n",
        "                                lr=lr, weight_decay=weight_decay, \n",
        "                                dropout=0.0, source_only=True)\n",
        "\n",
        "source_only = SourceOnly(so_generator, so_loader, n_classes, n_epochs, patience)\n",
        "\n",
        "# Train only on source, validate only on target \n",
        "acc_so_r2p = source_only.train_validate(source_train_loader, target_val_loader)"
      ]
    },
    {
      "cell_type": "code",
      "execution_count": null,
      "metadata": {
        "id": "zeibzHYibGh7"
      },
      "outputs": [],
      "source": [
        "# Evaluate the performance gain between the two architectures \n",
        "overall_gain_rel_r2p = lambda acc_uda, acc_so: (abs(acc_uda - acc_so)/acc_so)*100\n",
        "overall_gain_abs_r2p = lambda acc_uda, acc_so: (acc_uda - acc_so)\n",
        "\n",
        "print(f'Relative gain = {round(overall_gain_rel_r2p(acc_uda_r2p, acc_so_r2p), 2)} %')\n",
        "print(f'Absolute gain = {round(overall_gain_abs_r2p(acc_uda_r2p, acc_so_r2p), 2)}')"
      ]
    },
    {
      "cell_type": "markdown",
      "metadata": {
        "id": "zo6Zj95-svFK"
      },
      "source": [
        "## Direction P$→$R"
      ]
    },
    {
      "cell_type": "code",
      "execution_count": null,
      "metadata": {
        "id": "l0EeYQPLbZB8"
      },
      "outputs": [],
      "source": [
        "tmp_source = source\n",
        "source = target \n",
        "target = tmp_source \n",
        "\n",
        "tmp_train, tmp_val = source_train_loader, source_val_loader \n",
        "# Source domain \n",
        "source_train_loader, source_val_loader = target_train_loader, target_val_loader \n",
        "\n",
        "# Target domain\n",
        "target_train_loader, target_val_loader = tmp_train, tmp_val"
      ]
    },
    {
      "cell_type": "code",
      "execution_count": null,
      "metadata": {
        "id": "001rkr8DsvFK"
      },
      "outputs": [],
      "source": [
        "loader = ModelSaver('/content')\n",
        "\n",
        "uda_generator = FeatureExtractor(n_classes, model=model, optimizer=optim, \n",
        "                                n_params_trained=n_params_trained, \n",
        "                                lr=lr, weight_decay=weight_decay, \n",
        "                                dropout=dropout, source_only=False)\n",
        "\n",
        "symnet = SymNet(uda_generator, loader, n_classes, n_epochs, patience, label_smoothing)\n",
        "\n",
        "# Train on both source and target, validate only on target \n",
        "acc_uda_p2r = symnet.train_validate(source_train_loader, target_train_loader, target_val_loader)"
      ]
    },
    {
      "cell_type": "code",
      "execution_count": null,
      "metadata": {
        "id": "zvx3DgedsvFK"
      },
      "outputs": [],
      "source": [
        "so_loader = ModelSaver('/content', source_only = True)\n",
        "\n",
        "so_generator = FeatureExtractor(n_classes, model=model, optimizer=optim, \n",
        "                                n_params_trained=n_params_trained, \n",
        "                                lr=lr, weight_decay=weight_decay, \n",
        "                                source_only=True)\n",
        "\n",
        "source_only = SourceOnly(so_generator, so_loader, n_classes, n_epochs, patience)\n",
        "\n",
        "# Train only on source, validate only on target \n",
        "acc_so_p2r = source_only.train_validate(source_train_loader, target_val_loader)"
      ]
    },
    {
      "cell_type": "code",
      "execution_count": null,
      "metadata": {
        "id": "dmlW3Z5RsvFK"
      },
      "outputs": [],
      "source": [
        "# Evaluate the performance gain between the two architectures \n",
        "overall_gain_rel_p2r = lambda acc_uda, acc_so: (abs(acc_uda - acc_so)/acc_so)*100\n",
        "overall_gain_abs_p2r = lambda acc_uda, acc_so: (acc_uda - acc_so)\n",
        "\n",
        "print(f'Relative gain = {round(overall_gain_rel_p2r(acc_uda_p2r, acc_so_p2r), 2)} %')\n",
        "print(f'Absolute gain = {round(overall_gain_abs_p2r(acc_uda_p2r, acc_so_p2r), 2)}')"
      ]
    },
    {
      "cell_type": "markdown",
      "metadata": {
        "id": "0VN5V1hhsvFK"
      },
      "source": [
        "# Results"
      ]
    },
    {
      "cell_type": "markdown",
      "metadata": {
        "id": "3feORWgK65YF"
      },
      "source": [
        "<center>\n",
        "\n",
        "| Version| $P \\rightarrow R$ |  $R \\rightarrow P$ | \n",
        "|  :----: | :-----------: |:----------: | \n",
        "| Source-only | $82.4 \\%$ |$94.7 \\%$|\n",
        "| SymNet | $93.3 \\%$ | $97.4 \\%$| \n",
        "\n",
        "</center>"
      ]
    },
    {
      "cell_type": "markdown",
      "metadata": {
        "id": "1qEeEYiS69aK"
      },
      "source": [
        "The top-notch results achieved by the UDA full architecture are displayed in the Table above. They confirm the effectiveness of the architecture in solving the unsupervised domain adaptation task, as the validation accuracy values underline the goodness in aligning feature and category joint distributions across domains. Moreover, the performance on difficult adaptation tasks (i.e., <code>P</code> $\\rightarrow$ <code>RW</code>) greatly differ from the external baseline one. Similarly to Adaptiope's original paper, the outcomes emphasise a difference in the magnitude of the gain measures. This tendency of having lower accuracy scores due to a strong domain gap was already known and appeared independently from the backbone architecture ([Ringwald & Stiefelhagen](https://paperswithcode.com/dataset/adaptiope), see § 5.2). \n",
        "\n",
        "It is worth noticing that these results are the outcome of a fine-tuning process that interested most of the hyperparameters. For a fair comparison, the different trials are displayed below and accessible in the following [folder](https://drive.google.com/drive/folders/1LKLpTckmcrQ6w7mGFp55r1JWSv_5A3d1?usp=sharing). "
      ]
    },
    {
      "cell_type": "code",
      "execution_count": null,
      "metadata": {
        "id": "_cEcqldVsvFK"
      },
      "outputs": [],
      "source": [
        "if not os.path.exists(\"/content/drive/My Drive/DLL_project/results/\"):\n",
        "  raise FileExistsError(\"Could not find this directory, add a shortcut to your drive\")\n",
        "else: \n",
        "  path = \"/content/drive/My Drive/DLL_project/results/\"\n",
        "\n",
        "# names of the files in the Folder \n",
        "filenames = [\n",
        "      'all',\n",
        "      'no_ls_dp',\n",
        "      'lr_annealing',\n",
        "      'no_dropout_layer',\n",
        "      'resnet18',\n",
        "      '15batch', \n",
        "      'lr_0.001', \n",
        "      'grayscale', \n",
        "      'dropout0.5', \n",
        "      'resnet18_dropout'\n",
        "  ]\n",
        "\n",
        "# legend nomenclature  \n",
        "to_label = {\n",
        "      'all': 'full architecture',\n",
        "      'dropout0.5': 'dropout=0.5',\n",
        "      'no_ls_dp': 'no label_smoothing, no droupout',\n",
        "      'lr_annealing': 'lr decay',\n",
        "      'no_dropout_layer': 'dropout=0.0',\n",
        "      'resnet18': 'resnet18', \n",
        "      '15batch': 'batch=15', \n",
        "      'lr_0.001': 'lr=0.001', \n",
        "      'grayscale': 'grayscale=True', \n",
        "      'resnet18_dropout': 'model=resnet18, dropout=0.5'\n",
        "  }\n",
        "\n",
        "# line colors \n",
        "to_color = {\n",
        "        'all': 'xkcd:bright red',\n",
        "        'dropout0.5': 'xkcd:dirty yellow',\n",
        "        'no_ls_dp': 'xkcd:blue',\n",
        "        'lr_annealing': 'xkcd:purple',\n",
        "        'no_dropout_layer': 'xkcd:lime green',\n",
        "        'resnet18': 'xkcd:grass green', \n",
        "        '15batch': 'xkcd:cyan',\n",
        "        'lr_0.001': 'xkcd:olive', \n",
        "        'grayscale': 'xkcd:orange',\n",
        "        'resnet18_dropout': 'xkcd:pink'\n",
        "    }\n"
      ]
    },
    {
      "cell_type": "code",
      "execution_count": null,
      "metadata": {
        "id": "JHAOOX5wvAzJ"
      },
      "outputs": [],
      "source": [
        "def set_domains(source: str, target: str, filenames: list, path:str):\n",
        "  '''\n",
        "  From each folder extract the results json file containing \n",
        "  the accuracies and losses of the model training and validation. \n",
        "  From the best model folder (all) extract the source-only \n",
        "  results. \n",
        "\n",
        "  Parameters\n",
        "  ----------\n",
        "  source: str\n",
        "      source domain \n",
        "  target: str\n",
        "      target domain \n",
        "  filenames: list\n",
        "      list of the folder names\n",
        "  path: str \n",
        "      directory to the proper results folder  \n",
        "\n",
        "  Returns\n",
        "  -------\n",
        "  results \n",
        "      dictionary having as key the filename and as values the model's results\n",
        "  source_only \n",
        "      list with the source-only results \n",
        "  baseline\n",
        "      integer value set depending on the source domain\n",
        "  '''\n",
        "  results = {}\n",
        "  source_only = []\n",
        "\n",
        "  filename = source.split(\"_\")[0] + \"2\" + target.split(\"_\")[0]\n",
        "  foldername = source.split(\"_\")[0][0] + \"2\" + target.split(\"_\")[0][0]  \n",
        "\n",
        "  for fn in filenames:\n",
        "      with open(f'{path}{foldername}_{fn}/{filename}_results.json', 'r') as f:\n",
        "          results[fn] = json.load(f)\n",
        "\n",
        "  with open(f'{path}{foldername}_{fn}/{filename}_so_results.json', 'r') as f:\n",
        "    source_only = json.load(f)\n",
        "\n",
        "  if source.startswith(\"real\"): \n",
        "    baseline = 93 # given by the assignment\n",
        "  else: \n",
        "    baseline = 80 # given by the assignment \n",
        "  \n",
        "  return results, source_only, baseline\n",
        "\n",
        "\n",
        "def show_results(source: str, target: str, epochs: int, filenames: list, path: str, y_axis=0):\n",
        "  '''\n",
        "  Show the line chart of the target validation accuracy \n",
        "  of each model.\n",
        "\n",
        "  Parameters\n",
        "  ----------\n",
        "  source: str\n",
        "      source domain \n",
        "  target: str\n",
        "      target domain \n",
        "  epochs: int \n",
        "      number of epochs to show as x-axis \n",
        "  filenames: list\n",
        "      list of the folder names\n",
        "  path: str \n",
        "      directory to the proper results folder  \n",
        "  y_axis: int\n",
        "      origin of the y-axis \n",
        "  '''\n",
        "  results, source_only, baseline = set_domains(source, target, filenames, path)\n",
        "\n",
        "  sns.set_theme(style=\"whitegrid\", palette=\"pastel\")\n",
        "  fig, ax = plt.subplots()\n",
        "  \n",
        "  # Display the target validation accuracy for each model \n",
        "  for k in filenames:\n",
        "    if k in results.keys(): \n",
        "        val_ppls = results[k][\"val_tgt_accs\"]\n",
        "        val_ppls = [x*100 for x in val_ppls]\n",
        "        e = range(len(val_ppls))\n",
        "        ax.plot(e, val_ppls, label=to_label[k], color=to_color[k])\n",
        "    else: \n",
        "      raise ValueError(f\"The results of {k} have not been stored.\")\n",
        "  \n",
        "  # Add the external baseline \n",
        "  ax.plot(range(epochs-10), [baseline]*(epochs-10), '--', label='baseline', color='xkcd:grey', linewidth=3)\n",
        "  \n",
        "  # Add the internal baseline, meaning the source-only model \n",
        "  ax.plot(range(len(source_only['val_accuracies'])), [x*100 for x in source_only['val_accuracies']], '--', label='source-only', color='xkcd:black')\n",
        "  \n",
        "  # Set width and height of the graph\n",
        "  fig.set_figwidth(20)\n",
        "  fig.set_figheight(10)\n",
        "  fig.set_dpi(300)\n",
        "\n",
        "  # Set size of the words \n",
        "  plt.rc('font', size=20)\n",
        "  plt.rc('axes', titlesize=20, labelsize=20)\n",
        "  plt.rc('xtick', labelsize=20)\n",
        "  plt.rc('ytick', labelsize=20)\n",
        "  plt.rc('legend', fontsize=10)\n",
        "\n",
        "  # Set extremes of x and y axes \n",
        "  plt.ylim(bottom=y_axis, top=100)\n",
        "  plt.xlim(left=-0.5, right=epochs)\n",
        "\n",
        "  # Add legend \n",
        "  plt.legend(loc='upper right')\n",
        "\n",
        "  # Add title/labels \n",
        "  plt.title(source.split('_')[0].capitalize() + r'$\\rightarrow$' + target.split('_')[0].capitalize())\n",
        "  plt.xlabel(\"Epoch\")\n",
        "  plt.ylabel(\"Validation Accuracy\")\n",
        "\n",
        "  # Show picture \n",
        "  plt.show()"
      ]
    },
    {
      "cell_type": "code",
      "execution_count": null,
      "metadata": {
        "id": "7rh7nqssvGlO"
      },
      "outputs": [],
      "source": [
        "show_results(source=\"real_life\", target=\"product_images\", epochs=52, filenames=filenames, path=path)"
      ]
    },
    {
      "cell_type": "code",
      "execution_count": null,
      "metadata": {
        "id": "mRd2PtvOFSCM"
      },
      "outputs": [],
      "source": [
        "show_results(source=\"product\", target=\"real_life\", epochs=60, filenames=filenames, path=path)"
      ]
    },
    {
      "cell_type": "markdown",
      "source": [
        "Different experiments were conducted by tuning the hyperparameters of the full architecture, aiming to investigate the effects on the overall performance (i.e., both directions). The considerations, supported by the diagnostic plots above, follow. \n",
        "\n",
        "* <b>Learning Rate</b> \n",
        "\n",
        "Setting the correct <code>learning rate</code> might be the main challenge in training deep learning neural networks, and it may turn out to be the most important hyperparameter for the model ([Goodfellow](https://www.deeplearningbook.org), 2016). Whereas the original paper and the PyTorch [<code>RMSProp</code>](https://pytorch.org/docs/stable/generated/torch.optim.RMSprop.html) implementation set the initial learning rate value to $0.01$ ([Zhang <i>et al.</i>](https://arxiv.org/abs/1904.04663), § 4.1), our architecture did not support that choice. Moreover, even $\\eta_0 = 1e^{-3}$ led to suboptimal performance as the model collapsed after a few epochs with losses stuck in local minima. However, the reduction of $1/10$ of the learning rate (i.e., $\\eta_0 = 1e^{-4}$) stabilized the learning process, which shows a proper loss decay and a rising accuracy (till a plateau). \n",
        "\n",
        "* <b>Batch Size</b>\n",
        "\n",
        "The <code>batch size</code> is another relevant hyperparameter. Considering that RMSProp was developed as a stochastic technique for mini-batch learning ([Kingma & Ba]((https://arxiv.org/pdf/1412.6980.pdf), 2014; [Guide to Adam and Rmsprop](https://medium.com/analytics-vidhya/a-complete-guide-to-adam-and-rmsprop-optimizer-75f4502d83be)) and that the number of classes to map was low (n = 20), a small batch size seemed a reasonable choice. Although the model achieves the best outcomes with batches of size $30$, also $15$ has been considered and displayed interesting insights. Thus, the validation accuracies are similar, but a smaller batch size implies a model prone to local minima convergence (see the second graph) and with a smoother learning curve, namely slower. \n",
        "\n",
        "* <b>ResNet</b>\n",
        "\n",
        "The empirical outcomes confirm that the application of ResNet50 provides the most reliable and stable performance, but interesting cues come from the ResNet18 application. The results achieved with this shallower backbone outperform the others when the domain gap is strong ($P → R$) and the dropout rate ($p=0.2$) is low, while the model rapidly degrades when the dropout rate rises ($p=0.5$). However, this is positively interpreted and demonstrates how ResNet18 is a suitable backbone that requires little fine-tuning, avoids additional noise, and is less computationally demanding. \n",
        "\n",
        "* <b>Grayscale & Random Crop</b>\n",
        "\n",
        "The data transformation seems not to affect the overall model learning as the diagnostic plots do not register any dissimilarity between the cases with pixel intensity normalization and those with the shift to grayscale images (i.e., <code>grayscale=True</code>). Similarly, the expected impact of randomly crop the images (i.e., <code>center=False</code>) does not occur. This phenomenon might be partially explained by the Adaptiope dataset setup that minimizes the number of uninformative pixels within the images by centring and cropping them.<a name=\"cite_ref-1\"></a>[<sup>[1]</sup>](#cite_note-1)\n",
        "\n",
        "</br>\n",
        "</br>\n",
        "<a name=\"cite_note-1\">[1]</a> <font size=\"-1\">The discussion about image dimensions was part of the Exploratory Data Analysis Section, where some considerations were demarcated and further analysed.</font> \n"
      ],
      "metadata": {
        "id": "qm41QLrwU8Vk"
      }
    },
    {
      "cell_type": "code",
      "source": [
        "# select only the models where dropout is modified \n",
        "filenames = [\n",
        "      'all',\n",
        "      'no_ls_dp',\n",
        "      'no_dropout_layer',\n",
        "      'dropout0.5', \n",
        "      'resnet18_dropout'\n",
        "  ]\n",
        "show_results(source=\"real_life\", target=\"product_images\", epochs=52, filenames=filenames, y_axis=60, path=path)"
      ],
      "metadata": {
        "id": "aHxtRGUJpvvw"
      },
      "execution_count": null,
      "outputs": []
    },
    {
      "cell_type": "code",
      "source": [
        "show_results(source=\"product_images\", target=\"real_life\", epochs=52, filenames=filenames, y_axis=50, path=path)"
      ],
      "metadata": {
        "id": "PTg7irDDqosG"
      },
      "execution_count": null,
      "outputs": []
    },
    {
      "cell_type": "markdown",
      "source": [
        "* <b>Label smoothing and Dropout</b>\n",
        "\n",
        "<code>Label smoothing</code> and <code>Dropout</code> have been introduced to stabilize the training process, avoid overfitting and improve generalization error. Their importance is reflected in the partial results (see Appendix) and can also be detected in the plots above. Specifically, the impact of a noisy training process is visible when $p$ is set at $0.5$, which is a common and optimal choice for a wide range of networks and tasks ([Srivastava](https://jmlr.org/papers/v15/srivastava14a.html), 2014). Other noise, but on the labels, is introduced by the label Smoothing regularization technique. The best model is trained with a label smoothing factor of $0.2$. As aforementioned, the performance was quantitatively similar to training with hard targets (no label smoothing), but the risk of overconfidence was reduced<a name=\"cite_ref-2\"></a>[<sup>[2]</sup>](#cite_note-2).\n",
        "\n",
        "</br>\n",
        "</br>\n",
        "<a name=\"cite_note-2\">[2]</a> <font size=\"-1\">The overconfidence of the model has been empirically detected by printing the predicted labels and compared to the ground truth. After a few epochs, specific patterns dominated the training and strongly influenced the accuracy measure.</font> "
      ],
      "metadata": {
        "id": "1F7EgZSlu7qR"
      }
    },
    {
      "cell_type": "code",
      "execution_count": null,
      "metadata": {
        "id": "OnVZLkNwcjK6"
      },
      "outputs": [],
      "source": [
        "def show_val(source: str, target: str, epoch: int, file: str, path: str):\n",
        "  '''\n",
        "  Show the line chart of the target validation accuracy \n",
        "  of the full architecture model in both directions.\n",
        "\n",
        "  Parameters\n",
        "  ----------\n",
        "  source: str\n",
        "      source domain \n",
        "  target: str\n",
        "      target domain \n",
        "  epoch: int \n",
        "      number of epochs to show as x-axis \n",
        "  file: str\n",
        "      name of the file reporting the best model results \n",
        "  path: str \n",
        "      directory to the proper results folder  \n",
        "  '''\n",
        "  \n",
        "  sns.set_theme(style=\"whitegrid\", palette=\"pastel\")\n",
        "  fig, ax = plt.subplots()\n",
        "  \n",
        "  # source -> target \n",
        "  results, source_only, baseline = set_domains(source, target, [file], path)\n",
        "  direction = source.split('_')[0][0].capitalize() + r'$\\rightarrow$' + target.split('_')[0][0].capitalize()\n",
        "  \n",
        "  # Display the target validation accuracy curve for uda \n",
        "  val_tgt_acc = results[file][\"val_tgt_accs\"]\n",
        "  ax.plot(range(len(val_tgt_acc)), val_tgt_acc, label=f'uda val. acc. {direction}', color='xkcd:blue')\n",
        "  \n",
        "  # Display the target validation accuracy curve for source-only  \n",
        "  ax.plot(range(len(source_only['val_accuracies'])), source_only['val_accuracies'], '--', label=f'source-only val. acc. {direction}', color='xkcd:black')\n",
        "\n",
        "  # Switch domains \n",
        "  # target -> source \n",
        "  results, source_only, baseline = set_domains(target, source, [file], path)\n",
        "  direction = target.split('_')[0][0].capitalize() + r'$\\rightarrow$' + source.split('_')[0][0].capitalize()\n",
        "  val_tgt_acc = results[file][\"val_tgt_accs\"]\n",
        "  ax.plot(range(len(val_tgt_acc)), val_tgt_acc, label=f'uda val. acc. {direction}', color='xkcd:orange')\n",
        "  ax.plot(range(len(source_only['val_accuracies'])), source_only['val_accuracies'], '--', label=f'source-only val. acc. {direction}', color='xkcd:gray')\n",
        " \n",
        "  # Set width and height of the graph\n",
        "  fig.set_figwidth(7)\n",
        "  fig.set_figheight(7)\n",
        "  fig.set_dpi(300)\n",
        "\n",
        "  # Set size of the words \n",
        "  plt.rc('font', size=20)\n",
        "  plt.rc('axes', titlesize=20, labelsize=20)\n",
        "  plt.rc('xtick', labelsize=20)\n",
        "  plt.rc('ytick', labelsize=20)\n",
        "  plt.rc('legend', fontsize=5)\n",
        "\n",
        "  # Set extremes of x and y axes \n",
        "  plt.ylim(bottom=0.4, top=1)\n",
        "  plt.xlim(left=-0.5, right=epoch)\n",
        "\n",
        "  # Add legend \n",
        "  plt.legend(loc='upper right')\n",
        "\n",
        "  # Add title/labels \n",
        "  plt.title(\"Model accuracy for target domain\", fontsize=15)\n",
        "  plt.xlabel(\"Epoch\")\n",
        "  plt.ylabel(\"Accuracy\")\n",
        "\n",
        "  # Show picture \n",
        "  plt.show()"
      ]
    },
    {
      "cell_type": "code",
      "execution_count": null,
      "metadata": {
        "id": "ifSOf8N6cjK6"
      },
      "outputs": [],
      "source": [
        "show_val(source=\"real_life\", target=\"product\", epoch=55, file=\"dropout0.5\", path=path)"
      ]
    },
    {
      "cell_type": "markdown",
      "source": [
        "As previously stated, the full architecture achieves better performance in both directions. It is also worth noticing how the two learning curves progress. Whereas the source-only architecture curve shows unstable and almost random progress with several peaks and falls, the full architecture grows steadily and reaches a plateau. Using a robust backbone (ResNet50) and a relatively large batch size can justify the overall satisfactory performance of the source-only. "
      ],
      "metadata": {
        "id": "EPbSxKqR2a-L"
      }
    },
    {
      "cell_type": "markdown",
      "metadata": {
        "id": "-NXAF82tsvFK"
      },
      "source": [
        "# References"
      ]
    },
    {
      "cell_type": "markdown",
      "metadata": {
        "id": "uAXwN159svFL"
      },
      "source": [
        "<ol>\n",
        "         <li>\n",
        "         <p> Zhang, Y. <i> et al.</i>, 2019. <cite>Domain-symmetric networks for adversarial domain adaptation.</cite> In Proceedings of the IEEE/CVF conference on computer vision and pattern recognition, pp. 5031-5040.</p>\n",
        "         </li>\n",
        "         <li>\n",
        "            <p> Zhang, J. <i> et al.</i>, 2018. <cite>Importance weighted adversarial nets for partial domain adaptation.</cite> In Proceedings of the IEEE conference on computer vision and pattern recognition, pp. 8156-8164. </p>\n",
        "         </li>\n",
        "         <li>\n",
        "            <p> Goodfellow, I., 2016. <cite>Nips 2016 tutorial: Generative adversarial networks.</cite> ArXiv preprint arXiv:1701.00160</p>\n",
        "         </li>\n",
        "         <li>\n",
        "            <p> Mordido, G. <i> et al.</i>, 2018.<cite>Dropout-gan: Learning from a dynamic ensemble of discriminators.</cite> arXiv preprint arXiv:1807.11346</p>\n",
        "         </li>\n",
        "         <li>\n",
        "            <p> Müller, R.<i> et al.</i>, 2019.<cite>When does label smoothing help?.</cite> Advances in neural information processing systems, p. 32.\n",
        "            </li>\n",
        "            <li>\n",
        "            <p> Kingma, D.P., & Ba, J., 2014. <cite>Adam: A method for stochastic optimization. </cite> arXiv preprint arXiv:1412.6980.\n",
        "            </li>\n",
        "            <li>\n",
        "            <p> Tieleman, T., & Hinton, G., 2012. <cite>Lecture 6.5-rmsprop: Divide the gradient by a running average of its recent magnitude.</cite> COURSERA: Neural networks for machine learning, 4(2), pp. 26-31.\n",
        "            </li>\n",
        "            <li>\n",
        "            <p> Ringwald, T., & Stiefelhagen, R., 2021. <cite>Adaptiope: A modern benchmark for unsupervised domain adaptation.</cite> In 2021 IEEE Winter Conference on Applications of Computer Vision (WACV), pp. 101–110.\n",
        "            </li>\n",
        "            <li>\n",
        "            <p> Goodfellow, I.J., Bengio, Y., and  Courville, A., 2016. <cite>Deep Learning.</cite> MIT Press, p.429.\n",
        "            </li>\n",
        "           <li>\n",
        "            <p> \n",
        "Srivastava, N. <i>et al.</i>, 2014. <cite>Dropout: A Simple Way to Prevent Neural Networks from Overfitting.</cite> Journal of Machine Learning Research, 15(56), pp. 1929−1958.\n",
        "            </li>\n",
        "      </ol>"
      ]
    },
    {
      "cell_type": "markdown",
      "metadata": {
        "id": "uA748h05svFL"
      },
      "source": [
        "# Appendix"
      ]
    },
    {
      "cell_type": "markdown",
      "metadata": {
        "id": "R9SsQkRz1zSl"
      },
      "source": [
        "## Memory Tools"
      ]
    },
    {
      "cell_type": "markdown",
      "source": [
        "Code to clean up the RAM GPU after architecture training. It is worth noticing as it has been trained in Google Colab Pro environment due to the high computational power needed.  "
      ],
      "metadata": {
        "id": "EkrpQCVOSj1A"
      }
    },
    {
      "cell_type": "code",
      "execution_count": null,
      "metadata": {
        "id": "QraheZZx0sre"
      },
      "outputs": [],
      "source": [
        "import gc\n",
        "\n",
        "!nvidia-smi\n",
        "\n",
        "if 'loader' in globals() or 'loader' in locals():\n",
        "    print('Deleting loader...')\n",
        "    del loader\n",
        "if 'uda_generator' in globals() or 'uda_generator' in locals():\n",
        "    print('Deleting generator...')\n",
        "    del uda_generator\n",
        "if 'symnet' in globals() or 'symnet' in locals():\n",
        "    print('Deleting symnet...')\n",
        "    del symnet\n",
        "\n",
        "gc.collect()\n",
        "torch.cuda.empty_cache()\n",
        "\n",
        "!nvidia-smi"
      ]
    },
    {
      "cell_type": "markdown",
      "source": [
        "## Fine-tuning results"
      ],
      "metadata": {
        "id": "RHpXY34XQuz5"
      }
    },
    {
      "cell_type": "markdown",
      "source": [
        "The fine-tuning process has been tracked and the results of each model saved in ad hoc folder within the [<code>results</code>](https://drive.google.com/drive/folders/1LKLpTckmcrQ6w7mGFp55r1JWSv_5A3d1?usp=sharing) folder. Each sub-folder reflects the following structure: \n",
        "\n",
        "```\n",
        "results \n",
        "│\n",
        "├── p2r_foldername\n",
        "│ \n",
        "└── r2p_foldername\n",
        "    │   \n",
        "    └── real2product_results.json\n",
        "    |\n",
        "    └── real2product_params.json\n",
        "    |\n",
        "    └── real2product_so_results.json\n",
        "    |\n",
        "    └── real2product.pickle\n",
        "\n",
        "```\n",
        "\n",
        "The code is also available at the following [Git repository](https://github.com/detch-for-shor/deep-learning-proj)"
      ],
      "metadata": {
        "id": "2CH1G8hiQ2jv"
      }
    }
  ],
  "metadata": {
    "accelerator": "GPU",
    "colab": {
      "collapsed_sections": [
        "uA748h05svFL",
        "RHpXY34XQuz5"
      ],
      "machine_shape": "hm",
      "name": "SymNets_final.ipynb",
      "provenance": [],
      "toc_visible": true
    },
    "gpuClass": "standard",
    "kernelspec": {
      "display_name": "Python 3.9.13 64-bit",
      "language": "python",
      "name": "python3"
    },
    "language_info": {
      "codemirror_mode": {
        "name": "ipython",
        "version": 3
      },
      "file_extension": ".py",
      "mimetype": "text/x-python",
      "name": "python",
      "nbconvert_exporter": "python",
      "pygments_lexer": "ipython3",
      "version": "3.9.13"
    },
    "vscode": {
      "interpreter": {
        "hash": "b0fa6594d8f4cbf19f97940f81e996739fb7646882a419484c72d19e05852a7e"
      }
    },
    "widgets": {
      "application/vnd.jupyter.widget-state+json": {
        "1b1c0854f78146e1bd7c78bba1740d3a": {
          "model_module": "@jupyter-widgets/controls",
          "model_name": "HBoxModel",
          "model_module_version": "1.5.0",
          "state": {
            "_dom_classes": [],
            "_model_module": "@jupyter-widgets/controls",
            "_model_module_version": "1.5.0",
            "_model_name": "HBoxModel",
            "_view_count": null,
            "_view_module": "@jupyter-widgets/controls",
            "_view_module_version": "1.5.0",
            "_view_name": "HBoxView",
            "box_style": "",
            "children": [
              "IPY_MODEL_1916883c18e548cc892072e9e9272dc7",
              "IPY_MODEL_2d1b1519b84a45d9a0e55482772f2aee",
              "IPY_MODEL_0ba30ecf34244f4cb3aeba6b618a66ee"
            ],
            "layout": "IPY_MODEL_149df33c2c8c4807a74aa05cde2f3b03"
          }
        },
        "1916883c18e548cc892072e9e9272dc7": {
          "model_module": "@jupyter-widgets/controls",
          "model_name": "HTMLModel",
          "model_module_version": "1.5.0",
          "state": {
            "_dom_classes": [],
            "_model_module": "@jupyter-widgets/controls",
            "_model_module_version": "1.5.0",
            "_model_name": "HTMLModel",
            "_view_count": null,
            "_view_module": "@jupyter-widgets/controls",
            "_view_module_version": "1.5.0",
            "_view_name": "HTMLView",
            "description": "",
            "description_tooltip": null,
            "layout": "IPY_MODEL_d2f00ffe7e7d4bfeb82c1e66a2414410",
            "placeholder": "​",
            "style": "IPY_MODEL_c5087c481bd64697a0da3a8acbfc4fff",
            "value": "100%"
          }
        },
        "2d1b1519b84a45d9a0e55482772f2aee": {
          "model_module": "@jupyter-widgets/controls",
          "model_name": "FloatProgressModel",
          "model_module_version": "1.5.0",
          "state": {
            "_dom_classes": [],
            "_model_module": "@jupyter-widgets/controls",
            "_model_module_version": "1.5.0",
            "_model_name": "FloatProgressModel",
            "_view_count": null,
            "_view_module": "@jupyter-widgets/controls",
            "_view_module_version": "1.5.0",
            "_view_name": "ProgressView",
            "bar_style": "success",
            "description": "",
            "description_tooltip": null,
            "layout": "IPY_MODEL_198b6d8958e84679affe6dbb699f2706",
            "max": 102530333,
            "min": 0,
            "orientation": "horizontal",
            "style": "IPY_MODEL_c200b2818ea942e2bd05fa18ec22ac23",
            "value": 102530333
          }
        },
        "0ba30ecf34244f4cb3aeba6b618a66ee": {
          "model_module": "@jupyter-widgets/controls",
          "model_name": "HTMLModel",
          "model_module_version": "1.5.0",
          "state": {
            "_dom_classes": [],
            "_model_module": "@jupyter-widgets/controls",
            "_model_module_version": "1.5.0",
            "_model_name": "HTMLModel",
            "_view_count": null,
            "_view_module": "@jupyter-widgets/controls",
            "_view_module_version": "1.5.0",
            "_view_name": "HTMLView",
            "description": "",
            "description_tooltip": null,
            "layout": "IPY_MODEL_d97bcf74d4104b53928dbb646f350e41",
            "placeholder": "​",
            "style": "IPY_MODEL_2e6603df4a784115aacca03e47cc43b9",
            "value": " 97.8M/97.8M [00:01&lt;00:00, 91.4MB/s]"
          }
        },
        "149df33c2c8c4807a74aa05cde2f3b03": {
          "model_module": "@jupyter-widgets/base",
          "model_name": "LayoutModel",
          "model_module_version": "1.2.0",
          "state": {
            "_model_module": "@jupyter-widgets/base",
            "_model_module_version": "1.2.0",
            "_model_name": "LayoutModel",
            "_view_count": null,
            "_view_module": "@jupyter-widgets/base",
            "_view_module_version": "1.2.0",
            "_view_name": "LayoutView",
            "align_content": null,
            "align_items": null,
            "align_self": null,
            "border": null,
            "bottom": null,
            "display": null,
            "flex": null,
            "flex_flow": null,
            "grid_area": null,
            "grid_auto_columns": null,
            "grid_auto_flow": null,
            "grid_auto_rows": null,
            "grid_column": null,
            "grid_gap": null,
            "grid_row": null,
            "grid_template_areas": null,
            "grid_template_columns": null,
            "grid_template_rows": null,
            "height": null,
            "justify_content": null,
            "justify_items": null,
            "left": null,
            "margin": null,
            "max_height": null,
            "max_width": null,
            "min_height": null,
            "min_width": null,
            "object_fit": null,
            "object_position": null,
            "order": null,
            "overflow": null,
            "overflow_x": null,
            "overflow_y": null,
            "padding": null,
            "right": null,
            "top": null,
            "visibility": null,
            "width": null
          }
        },
        "d2f00ffe7e7d4bfeb82c1e66a2414410": {
          "model_module": "@jupyter-widgets/base",
          "model_name": "LayoutModel",
          "model_module_version": "1.2.0",
          "state": {
            "_model_module": "@jupyter-widgets/base",
            "_model_module_version": "1.2.0",
            "_model_name": "LayoutModel",
            "_view_count": null,
            "_view_module": "@jupyter-widgets/base",
            "_view_module_version": "1.2.0",
            "_view_name": "LayoutView",
            "align_content": null,
            "align_items": null,
            "align_self": null,
            "border": null,
            "bottom": null,
            "display": null,
            "flex": null,
            "flex_flow": null,
            "grid_area": null,
            "grid_auto_columns": null,
            "grid_auto_flow": null,
            "grid_auto_rows": null,
            "grid_column": null,
            "grid_gap": null,
            "grid_row": null,
            "grid_template_areas": null,
            "grid_template_columns": null,
            "grid_template_rows": null,
            "height": null,
            "justify_content": null,
            "justify_items": null,
            "left": null,
            "margin": null,
            "max_height": null,
            "max_width": null,
            "min_height": null,
            "min_width": null,
            "object_fit": null,
            "object_position": null,
            "order": null,
            "overflow": null,
            "overflow_x": null,
            "overflow_y": null,
            "padding": null,
            "right": null,
            "top": null,
            "visibility": null,
            "width": null
          }
        },
        "c5087c481bd64697a0da3a8acbfc4fff": {
          "model_module": "@jupyter-widgets/controls",
          "model_name": "DescriptionStyleModel",
          "model_module_version": "1.5.0",
          "state": {
            "_model_module": "@jupyter-widgets/controls",
            "_model_module_version": "1.5.0",
            "_model_name": "DescriptionStyleModel",
            "_view_count": null,
            "_view_module": "@jupyter-widgets/base",
            "_view_module_version": "1.2.0",
            "_view_name": "StyleView",
            "description_width": ""
          }
        },
        "198b6d8958e84679affe6dbb699f2706": {
          "model_module": "@jupyter-widgets/base",
          "model_name": "LayoutModel",
          "model_module_version": "1.2.0",
          "state": {
            "_model_module": "@jupyter-widgets/base",
            "_model_module_version": "1.2.0",
            "_model_name": "LayoutModel",
            "_view_count": null,
            "_view_module": "@jupyter-widgets/base",
            "_view_module_version": "1.2.0",
            "_view_name": "LayoutView",
            "align_content": null,
            "align_items": null,
            "align_self": null,
            "border": null,
            "bottom": null,
            "display": null,
            "flex": null,
            "flex_flow": null,
            "grid_area": null,
            "grid_auto_columns": null,
            "grid_auto_flow": null,
            "grid_auto_rows": null,
            "grid_column": null,
            "grid_gap": null,
            "grid_row": null,
            "grid_template_areas": null,
            "grid_template_columns": null,
            "grid_template_rows": null,
            "height": null,
            "justify_content": null,
            "justify_items": null,
            "left": null,
            "margin": null,
            "max_height": null,
            "max_width": null,
            "min_height": null,
            "min_width": null,
            "object_fit": null,
            "object_position": null,
            "order": null,
            "overflow": null,
            "overflow_x": null,
            "overflow_y": null,
            "padding": null,
            "right": null,
            "top": null,
            "visibility": null,
            "width": null
          }
        },
        "c200b2818ea942e2bd05fa18ec22ac23": {
          "model_module": "@jupyter-widgets/controls",
          "model_name": "ProgressStyleModel",
          "model_module_version": "1.5.0",
          "state": {
            "_model_module": "@jupyter-widgets/controls",
            "_model_module_version": "1.5.0",
            "_model_name": "ProgressStyleModel",
            "_view_count": null,
            "_view_module": "@jupyter-widgets/base",
            "_view_module_version": "1.2.0",
            "_view_name": "StyleView",
            "bar_color": null,
            "description_width": ""
          }
        },
        "d97bcf74d4104b53928dbb646f350e41": {
          "model_module": "@jupyter-widgets/base",
          "model_name": "LayoutModel",
          "model_module_version": "1.2.0",
          "state": {
            "_model_module": "@jupyter-widgets/base",
            "_model_module_version": "1.2.0",
            "_model_name": "LayoutModel",
            "_view_count": null,
            "_view_module": "@jupyter-widgets/base",
            "_view_module_version": "1.2.0",
            "_view_name": "LayoutView",
            "align_content": null,
            "align_items": null,
            "align_self": null,
            "border": null,
            "bottom": null,
            "display": null,
            "flex": null,
            "flex_flow": null,
            "grid_area": null,
            "grid_auto_columns": null,
            "grid_auto_flow": null,
            "grid_auto_rows": null,
            "grid_column": null,
            "grid_gap": null,
            "grid_row": null,
            "grid_template_areas": null,
            "grid_template_columns": null,
            "grid_template_rows": null,
            "height": null,
            "justify_content": null,
            "justify_items": null,
            "left": null,
            "margin": null,
            "max_height": null,
            "max_width": null,
            "min_height": null,
            "min_width": null,
            "object_fit": null,
            "object_position": null,
            "order": null,
            "overflow": null,
            "overflow_x": null,
            "overflow_y": null,
            "padding": null,
            "right": null,
            "top": null,
            "visibility": null,
            "width": null
          }
        },
        "2e6603df4a784115aacca03e47cc43b9": {
          "model_module": "@jupyter-widgets/controls",
          "model_name": "DescriptionStyleModel",
          "model_module_version": "1.5.0",
          "state": {
            "_model_module": "@jupyter-widgets/controls",
            "_model_module_version": "1.5.0",
            "_model_name": "DescriptionStyleModel",
            "_view_count": null,
            "_view_module": "@jupyter-widgets/base",
            "_view_module_version": "1.2.0",
            "_view_name": "StyleView",
            "description_width": ""
          }
        }
      }
    }
  },
  "nbformat": 4,
  "nbformat_minor": 0
}